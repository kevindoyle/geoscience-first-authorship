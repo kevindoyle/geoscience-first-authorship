{
 "cells": [
  {
   "cell_type": "markdown",
   "id": "f980bb6e",
   "metadata": {},
   "source": [
    "### This notebook looks at the number of papers each individual author publishes.\n",
    "\n",
    "It compares the probability of female and male authors to be among the top 10, 30, 100... most productive authors (both first and last authors).\n",
    "\n",
    "As input data it uses the records in directory author_allgenders.\n",
    "\n",
    "We can conclude here that men are generally more strongly represented among highly productive authors. This can be seen because the overall female quota of first authors, for example, is around 25 %, but it is only around 15 % among the most prolifically publishing authors. \n",
    "\n",
    "That this pattern appears both for first and for last authors means that there are structural factors that hold female seismologists back from publishing as much as their male colleagues.\n",
    "\n",
    "In the case of the first authors, this may be an illustration of the leaky pipeline. The frequency of female authors stabilizes at a number of papers per author of 2 over the past ten years. It may be hypothesized that these are papers by graduate students who left academia after their PhD. This indicates that the number of female seismologists in permanent positions is well below 25 %.\n",
    "\n",
    "For the last authors, it should be taken into account that female faculty are on the rise. Therefore, it is likely that female seismologists are more frequently young faculty that have taken up their appointments in recent years and have not yet had the possibility to publish senior-author papers as much as their male peers. However, there are thousands of last-authored papers by female seismologist authors that have only published one paper during the past ten years. These are unlikely to be the senior-authored works by supervising female faculty, and more likely to be contributions where the last author is simply a contributor.\n",
    "\n",
    "The histograms at the bottom are not really relevant, they don't seem to show much that is interesting. That was just a try."
   ]
  },
  {
   "cell_type": "code",
   "execution_count": null,
   "id": "33d3829d",
   "metadata": {},
   "outputs": [],
   "source": [
    "# install the follwoing packages in the enviroment:\n",
    "# python3 -m pip install pandas\n",
    "# python3 -m pip install seaborn\n",
    "\n",
    "import pandas as pd\n",
    "import seaborn as sns\n",
    "import matplotlib.pyplot as plt\n",
    "\n",
    "import numpy as np\n",
    "import json\n",
    "\n",
    "import os\n",
    "\n",
    "from read_jsondata import read_jsons\n",
    "\n",
    "import time"
   ]
  },
  {
   "cell_type": "code",
   "execution_count": null,
   "id": "c92ee974",
   "metadata": {},
   "outputs": [],
   "source": [
    "# Define local paths\n",
    "\n",
    "root = ! pwd\n",
    "root = root[0]\n",
    "\n",
    "RAW_DIR=root+\"/author_allgenders/\"  \n",
    "\n",
    "if not os.path.exists(RAW_DIR):\n",
    "    print(\"The directory {} does not exist.\\nThere is no raw data for statistical analysis.\".format(RAW_DIR))"
   ]
  },
  {
   "cell_type": "markdown",
   "id": "814f6b0c",
   "metadata": {},
   "source": [
    "#### READ DATAFRAME"
   ]
  },
  {
   "cell_type": "code",
   "execution_count": null,
   "id": "6732d216",
   "metadata": {},
   "outputs": [],
   "source": [
    "df = read_jsons(RAW_DIR, columns=['journal','all_names', 'all_genders','all_percent','year'])\n",
    "df"
   ]
  },
  {
   "cell_type": "markdown",
   "id": "8748274e",
   "metadata": {},
   "source": [
    "##### Clean data"
   ]
  },
  {
   "cell_type": "code",
   "execution_count": null,
   "id": "d945f413",
   "metadata": {},
   "outputs": [],
   "source": [
    "# clean some journal names\n",
    "\n",
    "df.loc[df.journal=='E%26PSL','journal'] = 'EPSL'\n",
    "\n",
    "df.loc[df.journal.str.contains(\"Bulletin\"),'journal'] = 'BSSA'\n",
    "\n",
    "df.loc[df.journal.str.contains(\"Seismological\"),'journal'] = 'SRL'\n",
    "\n",
    "\n",
    "df"
   ]
  },
  {
   "cell_type": "code",
   "execution_count": null,
   "id": "b2011fda",
   "metadata": {},
   "outputs": [],
   "source": [
    "# Include impact factor:\n",
    "\n",
    "dict_IF = {'Nature': 46.486, 'Science': 41.845, 'NatureGeoscience': 16.103, 'EPSL': 4.823, 'GRL': 4.952, \n",
    "        'JGRSolidEarth': 4.191, 'G3': 3.721, 'SRL': 3.131, 'Tectp': 3.048, 'SolidEarth': 2.921, \n",
    "       'GEOPHYSICS': 3.093, 'GJI': 2.834, 'BSSA': 2.274, 'PEPI': 2.413}\n",
    "\n",
    "df['IF'] = df['journal'].map(dict_IF)"
   ]
  },
  {
   "cell_type": "code",
   "execution_count": null,
   "id": "701e7bd9",
   "metadata": {},
   "outputs": [],
   "source": [
    "## Remove rows for papers from 2021\n",
    "\n",
    "df = df[~df['year'].isin(['2021'])].copy()\n",
    "df"
   ]
  },
  {
   "cell_type": "markdown",
   "id": "a94fcdfc",
   "metadata": {},
   "source": [
    "##### Create new columns for statistics"
   ]
  },
  {
   "cell_type": "code",
   "execution_count": null,
   "id": "6aaea88d",
   "metadata": {},
   "outputs": [],
   "source": [
    "# First author's gender and percentage:\n",
    "\n",
    "df['First_Author'] = df['all_names'].apply(lambda x: x[0]) #take the first element of the list all_genders\n",
    "df['First_Author_gend'] = df['all_genders'].apply(lambda x: x[0]) #take the first element of the list all_genders\n",
    "df['First_Author_gendprob'] = df['all_percent'].apply(lambda x: x[0]) #take the first element of the list all_genders\n",
    "\n",
    "\n",
    "\n",
    "# Last author's gender and percentage:\n",
    "\n",
    "df['Last_Author'] = df['all_names'].apply(lambda x: x[-1]) #take the last element of the list all_genders\n",
    "df['Last_Author_gend'] = df['all_genders'].apply(lambda x: x[-1]) #take the last element of the list all_genders\n",
    "df['Last_Author_gendprob'] = df['all_percent'].apply(lambda x: x[-1]) #take the last element of the list all_genders\n",
    "\n",
    "df"
   ]
  },
  {
   "cell_type": "markdown",
   "id": "b62787f6",
   "metadata": {},
   "source": [
    "##### Clean names just in case"
   ]
  },
  {
   "cell_type": "code",
   "execution_count": null,
   "id": "7853423e",
   "metadata": {},
   "outputs": [],
   "source": [
    "def Clean_names(x):\n",
    "    first_name = x.split()[0] \n",
    "    last_name = x.split()[-1]\n",
    "    \n",
    "    name = first_name + ' ' + last_name\n",
    "    \n",
    "    return name\n",
    "\n",
    "\n",
    "df['First_Author_clean'] = df['First_Author'].apply(lambda x: Clean_names(x))\n",
    "df['Last_Author_clean'] = df['Last_Author'].apply(lambda x: Clean_names(x))\n",
    "\n",
    "df.drop(columns=['First_Author', 'Last_Author'],inplace = True)\n",
    "df"
   ]
  },
  {
   "cell_type": "code",
   "execution_count": null,
   "id": "ce35e272",
   "metadata": {},
   "outputs": [],
   "source": [
    "### Count number of papers for each author and create dictionary\n",
    "\n",
    "dict_last = df.Last_Author_clean.value_counts().to_dict()\n",
    "dict_first = df.First_Author_clean.value_counts().to_dict()"
   ]
  },
  {
   "cell_type": "code",
   "execution_count": null,
   "id": "af4e3e65",
   "metadata": {},
   "outputs": [],
   "source": [
    "### Create new dataframes, one for first authors and another one for last authors\n",
    "\n",
    "df_first = df[['First_Author_clean','First_Author_gend','First_Author_gendprob']].copy()\n",
    "df_last = df[['Last_Author_clean','Last_Author_gend','Last_Author_gendprob']].copy()\n",
    "\n",
    "df_first['Num_papers'] = df_first.First_Author_clean.map(dict_first) # create new column with number of papers\n",
    "df_last['Num_papers'] = df_last.Last_Author_clean.map(dict_last)"
   ]
  },
  {
   "cell_type": "code",
   "execution_count": null,
   "id": "de496064",
   "metadata": {},
   "outputs": [],
   "source": [
    "### Drop duplicated name and sort in descending order of num_papers\n",
    "\n",
    "df_first2 = df_first.drop_duplicates('First_Author_clean').sort_values(by=['Num_papers'],ascending=False).reset_index(drop = True)\n",
    "\n",
    "df_last2 = df_last.drop_duplicates('Last_Author_clean').sort_values(by=['Num_papers'],ascending=False).reset_index(drop = True)"
   ]
  },
  {
   "cell_type": "code",
   "execution_count": null,
   "id": "7bada731",
   "metadata": {},
   "outputs": [],
   "source": [
    "## It is easier to have all probabilities with respect to female\n",
    "\n",
    "# prob(female) = 1 - prob(male)\n",
    "\n",
    "# Prob first author female:\n",
    "\n",
    "df_first2['First_Author_probF'] = df_first2['First_Author_gendprob']\n",
    "\n",
    "df_first2.loc[df_first2['First_Author_gend'] == 'male','First_Author_probF'] = \\\n",
    "    1 - df_first2.loc[df_first2['First_Author_gend'] == 'male','First_Author_probF']\n",
    "\n",
    "# Prob last author female:\n",
    "\n",
    "df_last2['Last_Author_probF'] = df_last2['Last_Author_gendprob']\n",
    "\n",
    "df_last2.loc[df_last2['Last_Author_gend'] == 'male','Last_Author_probF'] = \\\n",
    "    1 - df_last2.loc[df_last2['Last_Author_gend'] == 'male','Last_Author_probF']\n"
   ]
  },
  {
   "cell_type": "code",
   "execution_count": null,
   "id": "ce09ea19",
   "metadata": {},
   "outputs": [],
   "source": [
    "print('Probability female on top 30 first authors', df_first2.loc[0:30,'First_Author_probF'].sum()/30) # last index is not included!!\n",
    "print('Probability female on top 10 first authors', df_first2.loc[0:10,'First_Author_probF'].sum()/10)\n",
    "print(\"\\n\")\n",
    "# NOTE. Xin Liu is misclassified. I think is a postdoc in stanford, and he's a guy\n",
    "# there is another Xin Liu in seismology in China, another man. Their articles appear combined, as their names are identical.\n",
    "print('Probability female on top 10 first authors when binary gender', df_first2.loc[0:10,'First_Author_probF'].round().sum()/10)\n",
    "print('Probability female on top 20 first authors when binary gender', df_first2.loc[0:20,'First_Author_probF'].round().sum()/20)\n",
    "\n",
    "print('Probability female on top 30 first authors when binary gender', df_first2.loc[0:30,'First_Author_probF'].round().sum()/30)\n",
    "print('Probability female on top 40 first authors when binary gender', df_first2.loc[0:40,'First_Author_probF'].round().sum()/40)\n",
    "\n",
    "print('Probability female on top 50 first authors when binary gender', df_first2.loc[0:50,'First_Author_probF'].round().sum()/50)\n",
    "print('Probability female on top 100 first authors when binary gender', df_first2.loc[0:100,'First_Author_probF'].round().sum()/100)\n",
    "print('Probability female on top 1000 first authors when binary gender', df_first2.loc[0:1000,'First_Author_probF'].round().sum()/1000)\n",
    "print('Probability female on top 2000 first authors when binary gender', df_first2.loc[0:2000,'First_Author_probF'].round().sum()/2000)\n",
    "print('Probability female on top 10000 first authors when binary gender', df_first2.loc[0:10000,'First_Author_probF'].round().sum()/10000)\n",
    "df_first2.iloc[0:30]\n",
    "\n",
    "prob_f_in_n = []\n",
    "prob_m_in_n = []\n",
    "ns = np.arange(50, 5000, 10)\n",
    "ps_per_a = []\n",
    "for n in ns:\n",
    "    prob_f_in_n.append(df_first2.loc[0:n,'First_Author_probF'].round().sum()/n)\n",
    "    prob_m_in_n.append((1. - df_first2.loc[0:n,'First_Author_probF'] + 0.001).round().sum()/n)\n",
    "    ps_per_a.append(df_first2.loc[n,'Num_papers'])\n",
    "# plt.plot(ns, prob_f_in_n)\n",
    "# plt.plot(ns, prob_m_in_n)\n",
    "# plt.ylabel(\"Frequency of gender of first author\\n out of N most productive authors\")\n",
    "# plt.xlabel(\"Average first-authored papers\")\n",
    "# plt.legend([\"Female\", \"Male\"])\n",
    "# plt.title(\"Highly productive authors are more commonly male\")\n",
    "# plt.grid()\n",
    "# plt.xticks([50, 1050, 2050, 3050, 4050],\n",
    "#            [ps_per_a[0], ps_per_a[100], ps_per_a[200],\n",
    "#             ps_per_a[300], ps_per_a[400]])\n",
    "# plt.show()\n",
    "\n",
    "\n",
    "plt.plot(ns, np.array(prob_f_in_n) / (np.array(prob_f_in_n) + np.array(prob_m_in_n)))\n",
    "plt.ylabel(\"Frequency of female first authors\\n among N most productive first authors\")\n",
    "plt.xlabel(\"Number of first-author papers M by the N most productive authors\")\n",
    "#plt.legend([\"Female\", \"Male\"])\n",
    "plt.title(\"Highly productive first authors are more commonly male\")\n",
    "plt.grid()\n",
    "# plt.xticks([50, 1050, 2050, 3050, 4050],\n",
    "#            [ps_per_a[0], ps_per_a[100], ps_per_a[200],\n",
    "#             ps_per_a[300], ps_per_a[400]])\n",
    "plt.xticks([50, 1050, 2050, 3050, 4050,],\n",
    "           [\"N={}\\nM={}\".format(50, ps_per_a[0]),\n",
    "            \"N={}\\nM={}\".format(1050, ps_per_a[100]),\n",
    "            \"N={}\\nM={}\".format(2050, ps_per_a[200]),\n",
    "            \"N={}\\nM={}\".format(3050, ps_per_a[300]),\n",
    "            \"N={}\\nM={}\".format(4050, ps_per_a[400]),\n",
    "            ])\n",
    "plt.savefig(\"most_productive_first.png\", dpi=300)\n",
    "plt.show()\n",
    "\n",
    "prob_f_in_n = []\n",
    "prob_m_in_n = []\n",
    "ns = np.arange(50, 7000, 10)\n",
    "ps_per_a = []\n",
    "n_before = 0\n",
    "for n in ns:\n",
    "    prob_f_in_n.append(df_last2.loc[0:n,'Last_Author_probF'].round().sum()/n)\n",
    "    prob_m_in_n.append((1. - df_last2.loc[0:n,'Last_Author_probF'] + 0.001).round().sum()/n)\n",
    "    ps_per_a.append(df_last2.loc[n,'Num_papers'])\n",
    "    n_before = n\n",
    "plt.plot(ns, prob_f_in_n)\n",
    "plt.plot(ns, prob_m_in_n)\n",
    "plt.ylabel(\"Frequency of gender of last author\\n out of N most productive authors\")\n",
    "plt.xlabel(\"Nr of last-authored papers\")\n",
    "plt.legend([\"Female\", \"Male\"])\n",
    "plt.title(\"Senior authors are more commonly male\")\n",
    "plt.grid()\n",
    "plt.xticks([50, 1050, 2050, 3050, 4050],\n",
    "           [ps_per_a[0], ps_per_a[100], ps_per_a[200],\n",
    "            ps_per_a[300], ps_per_a[400]])\n",
    "plt.show()\n",
    "\n",
    "plt.plot(ns, np.array(prob_f_in_n) / (np.array(prob_f_in_n) + np.array(prob_m_in_n)))\n",
    "plt.ylabel(\"Frequency of female last authors\\n among N most productive last authors\")\n",
    "plt.xlabel(\"The N most productive authors with M papers each\")\n",
    "#plt.legend([\"Female\", \"Male\"])\n",
    "plt.title(\"Senior authors are more commonly male\")\n",
    "plt.grid()\n",
    "plt.xticks([50, 1050, 2050, 3050, 4050, 5050 , 6050],\n",
    "           [\"N={}\\nM={}\".format(50, ps_per_a[0]),\n",
    "            \"N={}\\nM={}\".format(1050, ps_per_a[100]),\n",
    "            \"N={}\\nM={}\".format(2050, ps_per_a[200]),\n",
    "            \"N={}\\nM={}\".format(3050, ps_per_a[300]),\n",
    "            \"N={}\\nM={}\".format(4050, ps_per_a[400]),\n",
    "            \"N={}\\nM={}\".format(5050, ps_per_a[500]),\n",
    "            \"N={}\\nM={}\".format(6050, ps_per_a[600]),\n",
    "            ])\n",
    "plt.savefig(\"most_productive_last.png\", dpi=300)\n",
    "\n",
    "plt.show()\n"
   ]
  },
  {
   "cell_type": "code",
   "execution_count": null,
   "id": "b3a5a989",
   "metadata": {},
   "outputs": [],
   "source": [
    "print('Probability female on top 30 last authors', df_last2.loc[0:29,'Last_Author_probF'].sum()/30)\n",
    "print('Probability female on top 10 last authors', df_last2.loc[0:9,'Last_Author_probF'].sum()/10)\n",
    "\n",
    "\n",
    "df_last2.iloc[0:30,:]"
   ]
  },
  {
   "cell_type": "markdown",
   "id": "6c3490ac",
   "metadata": {},
   "source": [
    "### just for fun let's check some histograms"
   ]
  },
  {
   "cell_type": "code",
   "execution_count": null,
   "id": "2bee907d",
   "metadata": {},
   "outputs": [],
   "source": [
    "plt.hist(df_first2.Num_papers, alpha=0.5, bins=range(1, 12))\n",
    "plt.xlim(1, 15)\n",
    "#plt.ylim(0, 1000)\n",
    "plt.title(\"All First Authors\")\n",
    "plt.show()\n",
    "plt.hist(df_first2[df_first2.First_Author_probF > 0.5].Num_papers, alpha=0.5, bins=range(1, 12))\n",
    "plt.xlim(1, 15)\n",
    "#plt.ylim(0, 1000)\n",
    "plt.title(\"Likely Female First Authors\")\n",
    "plt.show()\n",
    "plt.hist(df_first2[df_first2.First_Author_probF < 0.5].Num_papers, alpha=0.5, bins=range(1, 12))\n",
    "plt.xlim(1, 15)\n",
    "#plt.ylim(0, 1000)\n",
    "plt.title(\"Likely Male First Authors\")\n",
    "plt.show()"
   ]
  },
  {
   "cell_type": "code",
   "execution_count": null,
   "id": "7c71c9c8",
   "metadata": {},
   "outputs": [],
   "source": [
    "plt.hist(df_last2.Num_papers, alpha=0.5, bins=range(1, 12))\n",
    "plt.xlim(1, 15)\n",
    "#plt.ylim(0, 1000)\n",
    "plt.title(\"All Last Authors\")\n",
    "plt.show()\n",
    "plt.hist(df_last2[df_last2.Last_Author_probF > 0.5].Num_papers, alpha=0.5, bins=range(1, 12))\n",
    "plt.xlim(1, 15)\n",
    "#plt.ylim(0, 1000)\n",
    "plt.title(\"Likely Female Last Authors\")\n",
    "plt.show()\n",
    "plt.hist(df_last2[df_last2.Last_Author_probF < 0.5].Num_papers, alpha=0.5, bins=range(1, 12))\n",
    "plt.xlim(1, 15)\n",
    "#plt.ylim(0, 1000)\n",
    "plt.title(\"Likely Male Last Authors\")\n",
    "plt.show()"
   ]
  },
  {
   "cell_type": "markdown",
   "id": "05ed072e",
   "metadata": {},
   "source": [
    "### --- ok nothing strange with the histograms"
   ]
  },
  {
   "cell_type": "code",
   "execution_count": null,
   "id": "9ff65e1c",
   "metadata": {},
   "outputs": [],
   "source": []
  }
 ],
 "metadata": {
  "kernelspec": {
   "display_name": "picos",
   "language": "python",
   "name": "picos"
  },
  "language_info": {
   "codemirror_mode": {
    "name": "ipython",
    "version": 3
   },
   "file_extension": ".py",
   "mimetype": "text/x-python",
   "name": "python",
   "nbconvert_exporter": "python",
   "pygments_lexer": "ipython3",
   "version": "3.8.10"
  }
 },
 "nbformat": 4,
 "nbformat_minor": 5
}
