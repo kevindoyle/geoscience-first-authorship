{
 "cells": [
  {
   "cell_type": "code",
   "execution_count": null,
   "id": "55612318",
   "metadata": {},
   "outputs": [],
   "source": [
    "from __future__ import print_function\n",
    "import time\n",
    "import openapi_client # pip install git+https://github.com/namsor/namsor-python-sdk2.git\n",
    "from openapi_client.rest import ApiException\n",
    "from pprint import pprint\n",
    "\n",
    "# Configure API key authorization: api_key\n",
    "configuration = openapi_client.Configuration()\n",
    "configuration.api_key['X-API-KEY'] = 'd33fd630c4c66b498360a5e23a33f3b8'\n",
    "\n",
    "# create an instance of the API class\n",
    "api_instance = openapi_client.PersonalApi(openapi_client.ApiClient(configuration))\n",
    "first_name = 'Ray Y.' # str | \n",
    "last_name = 'Chuang' # str | \n",
    "\n",
    "try:\n",
    "    # Infer the likely gender of a name.\n",
    "    api_response = api_instance.gender(first_name, last_name)\n",
    "    pprint(api_response)\n",
    "except ApiException as e:\n",
    "    print(\"Exception when calling PersonalApi->gender: %s\\n\" % e)\n",
    "    \n",
    "    \n"
   ]
  },
  {
   "cell_type": "code",
   "execution_count": null,
   "id": "43669317",
   "metadata": {},
   "outputs": [],
   "source": [
    "#outputs we are interested in\n",
    "\n",
    "print(api_response.probability_calibrated)\n",
    "print(api_response.likely_gender)\n"
   ]
  },
  {
   "cell_type": "code",
   "execution_count": null,
   "id": "e5d84eb5",
   "metadata": {},
   "outputs": [],
   "source": []
  }
 ],
 "metadata": {
  "kernelspec": {
   "display_name": "venv",
   "language": "python",
   "name": "venv"
  },
  "language_info": {
   "codemirror_mode": {
    "name": "ipython",
    "version": 3
   },
   "file_extension": ".py",
   "mimetype": "text/x-python",
   "name": "python",
   "nbconvert_exporter": "python",
   "pygments_lexer": "ipython3",
   "version": "3.8.5"
  }
 },
 "nbformat": 4,
 "nbformat_minor": 5
}
