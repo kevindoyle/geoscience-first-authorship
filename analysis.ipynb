{
 "cells": [
  {
   "cell_type": "code",
   "execution_count": 1,
   "metadata": {},
   "outputs": [],
   "source": [
    "import pandas as pd\n",
    "import matplotlib as plt\n",
    "import seaborn as sb"
   ]
  },
  {
   "cell_type": "markdown",
   "metadata": {},
   "source": [
    "## Hypotheses to be tested\n",
    "\n",
    "#### As reference values to compare to, we will use demographics from ECS from agu, egu, ssa. This will give an idea of how many of the active scientists at these professional levels are represented to the peer-reviewed articles (which is the main crucial factor for career advancing and perhaps the daily goal of most academics)\n",
    "\n",
    "FIRST GLANCES AT DATA\n",
    "\n",
    "- % of female first authors (hists?)\n",
    "- % publications with all male vs. % publications with all female authors (hists?)\n",
    "\n",
    "CO-AUTHORSHIP ANALYSES\n",
    "\n",
    "- When 1st author is female: % of male vs. female co-authors (bars..?)\n",
    "- When 1st author is female: likelihood of last author (possibly PI) to be female vs. male \n",
    "- When 1st author is male: % of female coauthors and % of male coauthors\n",
    "- When the last name is female (possible PI), is there a higher % of female co-authors vs. male ones?\n",
    "\n",
    "JOURNAL IF ANALYSES:\n",
    "\n",
    "- Correlation between IF and female first authors: does higher IF mean fewer female first authors?\n",
    "\n",
    "\n"
   ]
  },
  {
   "cell_type": "code",
   "execution_count": null,
   "metadata": {},
   "outputs": [],
   "source": []
  }
 ],
 "metadata": {
  "kernelspec": {
   "display_name": "Python 3",
   "language": "python",
   "name": "python3"
  },
  "language_info": {
   "codemirror_mode": {
    "name": "ipython",
    "version": 3
   },
   "file_extension": ".py",
   "mimetype": "text/x-python",
   "name": "python",
   "nbconvert_exporter": "python",
   "pygments_lexer": "ipython3",
   "version": "3.7.0"
  }
 },
 "nbformat": 4,
 "nbformat_minor": 4
}
