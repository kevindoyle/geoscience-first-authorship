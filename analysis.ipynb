{
 "cells": [
  {
   "cell_type": "code",
   "execution_count": null,
   "metadata": {},
   "outputs": [],
   "source": [
    "# install the follwoing packages in the enviroment:\n",
    "# python3 -m pip install pandas\n",
    "# python3 -m pip install seaborn\n",
    "\n",
    "import pandas as pd\n",
    "import seaborn as sns\n",
    "import matplotlib.pyplot as plt\n",
    "\n",
    "import numpy as np\n",
    "import json\n",
    "\n",
    "import os\n",
    "\n",
    "from read_jsondata import read_jsons"
   ]
  },
  {
   "cell_type": "markdown",
   "metadata": {},
   "source": [
    "## Hypotheses to be tested\n",
    "\n",
    "#### As reference values to compare to, we will use demographics from ECS from AGU and EGU. This will give an idea of how many of the active scientists at these professional levels are represented to the peer-reviewed articles (which is the main crucial factor for career advancing and perhaps the daily goal of most academics)\n",
    "\n",
    "FIRST GLANCES AT DATA\n",
    "\n",
    "- % of female first authors (hists?)\n",
    "- % publications with all male vs. % publications with all female authors (hists?)\n",
    "\n",
    "CO-AUTHORSHIP ANALYSES\n",
    "\n",
    "- When 1st author is female: % of male vs. female co-authors (bars..?)\n",
    "- When 1st author is female: likelihood of last author (possibly PI) to be female vs. male \n",
    "- When 1st author is male: % of female coauthors and % of male coauthors\n",
    "- When the last name is female (possible PI), is there a higher % of female co-authors vs. male ones?\n",
    "\n",
    "JOURNAL IF ANALYSES:\n",
    "\n",
    "- Correlation between IF and female first authors: does higher IF mean fewer female first authors?\n",
    "\n",
    "\n"
   ]
  },
  {
   "cell_type": "code",
   "execution_count": null,
   "metadata": {},
   "outputs": [],
   "source": [
    "# Define local paths\n",
    "\n",
    "root = ! pwd\n",
    "root = root[0]\n",
    "\n",
    "RAW_DIR=root+\"/author_allgenders/\"  \n",
    "\n",
    "if not os.path.exists(RAW_DIR):\n",
    "    print(\"The directory {} does not exist.\\nThere is no raw data for statistical analysis.\".format(RAW_DIR))"
   ]
  },
  {
   "cell_type": "code",
   "execution_count": null,
   "metadata": {},
   "outputs": [],
   "source": [
    "df = read_jsons(RAW_DIR)\n",
    "df"
   ]
  },
  {
   "cell_type": "code",
   "execution_count": null,
   "metadata": {},
   "outputs": [],
   "source": [
    "# clean some journal names\n",
    "\n",
    "df.loc[df.journal=='E%26PSL','journal'] = 'EPSL'\n",
    "\n",
    "df.loc[df.journal.str.contains(\"Bulletin\"),'journal'] = 'BSSA'\n",
    "\n",
    "df.loc[df.journal.str.contains(\"Seismological\"),'journal'] = 'SRL'\n",
    "\n",
    "# Include impact factor:\n",
    "\n",
    "dict_IF = {'Nature': 46.486, 'Science': 41.845, 'NatureGeoscience': 16.103, 'EPSL': 4.823, 'GRL': 4.952, \n",
    "        'JGRSolidEarth': 4.191, 'G3': 3.721, 'SRL': 3.131, 'Tectp': 3.048, 'SolidEarth': 2.921, \n",
    "       'GEOPHYSICS': 3.093, 'GJI': 2.834, 'BSSA': 2.274, 'PEPI': 2.413}\n",
    "\n",
    "df['IF'] = df['journal'].map(dict_IF)\n",
    "df"
   ]
  },
  {
   "cell_type": "code",
   "execution_count": null,
   "metadata": {},
   "outputs": [],
   "source": [
    "## Remove rows for papers from 2021\n",
    "\n",
    "df = df[~df['year'].isin(['2021'])].copy()\n",
    "df"
   ]
  },
  {
   "cell_type": "markdown",
   "metadata": {},
   "source": [
    "### Create new columns in the dataframe extracting useful information from list of coauthors"
   ]
  },
  {
   "cell_type": "code",
   "execution_count": null,
   "metadata": {},
   "outputs": [],
   "source": [
    "# Number of authors:\n",
    "\n",
    "df['Number_authors'] = df['all_genders'].apply(lambda x: len(x)) #take the length of the list all_genders\n",
    "\n",
    "# First author's gender and percentage:\n",
    "\n",
    "df['First_Author_gend'] = df['all_genders'].apply(lambda x: x[0]) #take the first element of the list all_genders\n",
    "df['First_Author_perc'] = df['all_percent'].apply(lambda x: x[0])\n",
    "\n",
    "# Last author's gender and percentage:\n",
    "\n",
    "df['Last_Author_gend'] = df['all_genders'].apply(lambda x: x[-1]) #take the last element of the list all_genders\n",
    "df['Last_Author_perc'] = df['all_percent'].apply(lambda x: x[-1])\n",
    "\n",
    "df"
   ]
  },
  {
   "cell_type": "markdown",
   "metadata": {},
   "source": [
    " #### It is easier if the all probabilities are with respect to the same gender (female)"
   ]
  },
  {
   "cell_type": "code",
   "execution_count": null,
   "metadata": {},
   "outputs": [],
   "source": [
    "# prob(female) = 1 - prob(male)\n",
    "\n",
    "# Prob last author female:\n",
    "\n",
    "df['Last_Author_probF'] = df['Last_Author_perc']\n",
    "df.loc[df['Last_Author_gend'] == 'male','Last_Author_probF'] = \\\n",
    "    1 - df.loc[df['Last_Author_gend'] == 'male','Last_Author_probF']\n",
    "\n",
    "# Prob first author female:\n",
    "\n",
    "df['First_Author_probF'] = df['First_Author_perc']\n",
    "df.loc[df['First_Author_gend'] == 'male','First_Author_probF'] = \\\n",
    "    1 - df.loc[df['First_Author_gend'] == 'male','First_Author_probF']\n",
    "\n",
    "df"
   ]
  },
  {
   "cell_type": "markdown",
   "metadata": {},
   "source": [
    "## Now we can compute some interesting probabilities:\n",
    "\n",
    "### Useful formulas:\n",
    "\n",
    "Suppose $x_i$ refers to the article $i$ and $N$ is the total number of articles. Then, the probability of an article having female author is:\n",
    "\n",
    "$$p(\\text{female}) = \\sum_{i}^N p(\\text{female}|x_i) p(x_i). $$\n",
    "\n",
    "If we have all the probabilities with respect to the female gender, then the probability of having a male author will be:\n",
    "\n",
    "$$p(\\text{male}) = \\sum_{i}^N (1 - p(\\text{female}|x_i)) p(x_i). $$\n",
    "\n",
    "$p(x_i)$ is the probability of the article $x_i$. All articles have the same probability, therefore $p(x_i) = \\frac{1}{N}$. This means that the formulas above are same as taking the average of  $p(\\text{female}|x_i)$ or $(1 - p(\\text{female}|x_i))$, respectively.\n"
   ]
  },
  {
   "cell_type": "markdown",
   "metadata": {},
   "source": [
    "### Let's compute some easy statistics to start"
   ]
  },
  {
   "cell_type": "code",
   "execution_count": null,
   "metadata": {},
   "outputs": [],
   "source": [
    "print('Probability of having a female first author:', df['First_Author_probF'].sum()/df.shape[0])\n",
    "print('Probability of having a male first author:', (1 - df['First_Author_probF']).sum()/df.shape[0])\n",
    "\n",
    "\n",
    "print('Probability of having a female last author:', df['Last_Author_probF'].sum()/df.shape[0])\n",
    "print('Probability of having a male last author:', (1 - df['Last_Author_probF']).sum()/df.shape[0])\n",
    "\n"
   ]
  },
  {
   "cell_type": "markdown",
   "metadata": {},
   "source": [
    "#### Probabilities of having at least one male/female author in an article\n",
    "\n",
    "Having at least one female author refers to any coauthor combination excluding the case in which all authors are male:\n",
    "\n",
    "$$p(\\text{at least 1 female}|x_i) = 1 - p(\\text{all male}|x_i)$$\n",
    "\n",
    "Computing probability for all male coauthors is easier. In the following, we drop the dependency on $x_i$ for clarity.\n",
    "\n",
    "$$p(\\text{all male}) = p(\\text{male}_1)p(\\text{male}_2|\\text{male}_1)p(\\text{male}_3|\\text{male}_1,\\text{male}_2)... = \\prod_i^n p(\\text{male}_i)$$\n",
    "\n",
    "where n is the number of authors and the last step assumes that the gender probability of each authorship is independent of the gender of other coauthors (just to simplify the problem). "
   ]
  },
  {
   "cell_type": "code",
   "execution_count": null,
   "metadata": {},
   "outputs": [],
   "source": [
    "#Define functions to multiply probabilities in each row\n",
    "\n",
    "#prob at least a female author\n",
    "\n",
    "def Prob_atleast_Fauthor(x,y):\n",
    "    prod = 1\n",
    "    for i,elem in enumerate(x):\n",
    "        if elem == 'male':\n",
    "            prod *= float(y[i]) \n",
    "        elif elem == 'female':\n",
    "            prod *= 1 - float(y[i])\n",
    "    return 1 - prod\n",
    "\n",
    "#prob at least a male author\n",
    "\n",
    "def Prob_atleast_Mauthor(x,y):\n",
    "    prod = 1\n",
    "    for i,elem in enumerate(x):\n",
    "        if elem == 'male':\n",
    "            prod *= 1 - float(y[i]) \n",
    "        elif elem == 'female':\n",
    "            prod *= float(y[i])\n",
    "    return 1 - prod\n",
    "\n",
    "\n",
    "# Create corresponding columns:\n",
    "\n",
    "df['Prob_atleast_Fauthor'] = df.apply(lambda x: Prob_atleast_Fauthor(x.all_genders, x.all_percent), axis=1)\n",
    "df['Prob_atleast_Mauthor'] = df.apply(lambda x: Prob_atleast_Mauthor(x.all_genders, x.all_percent), axis=1)\n",
    "\n",
    "df"
   ]
  },
  {
   "cell_type": "code",
   "execution_count": null,
   "metadata": {},
   "outputs": [],
   "source": [
    "print('Probability of having at least one female author in an article', \n",
    "      df['Prob_atleast_Fauthor'].sum()/df.shape[0])\n",
    "\n",
    "print('Probability of having at least one male author in an article', \n",
    "      df['Prob_atleast_Mauthor'].sum()/df.shape[0])\n",
    "\n",
    "print('or the opposite...')\n",
    "\n",
    "print('Probability of having all female authors in an article', \n",
    "      1 - df['Prob_atleast_Mauthor'].sum()/df.shape[0])\n",
    "\n",
    "print('Probability of having all male authors in an article', \n",
    "      1 - df['Prob_atleast_Fauthor'].sum()/df.shape[0])"
   ]
  },
  {
   "cell_type": "markdown",
   "metadata": {},
   "source": [
    "#### We can compute the same quantity per each journal"
   ]
  },
  {
   "cell_type": "code",
   "execution_count": null,
   "metadata": {},
   "outputs": [],
   "source": [
    "\n",
    "journals = df['journal'].unique() # a list of unique journal names\n",
    "\n",
    "df['P_atleast_F_journal'] = df['Prob_atleast_Fauthor'] #initialize the columns\n",
    "df['P_atleast_M_journal'] = df['Prob_atleast_Mauthor']\n",
    "\n",
    "for i in journals: #update values for each journal\n",
    "    cond = df['journal']==i\n",
    "    print(\"N = \", len(df[cond].values), \" for journal \", i)\n",
    "    df.loc[cond,'P_atleast_F_journal'] = df.loc[cond,'Prob_atleast_Fauthor'].sum()/df[cond].shape[0]\n",
    "    df.loc[cond,'P_atleast_M_journal'] = df.loc[cond,'Prob_atleast_Mauthor'].sum()/df[cond].shape[0]\n",
    "    "
   ]
  },
  {
   "cell_type": "markdown",
   "metadata": {},
   "source": [
    "##### Make bar plots"
   ]
  },
  {
   "cell_type": "code",
   "execution_count": null,
   "metadata": {},
   "outputs": [],
   "source": [
    "sns.barplot(y=\"journal\", x=\"P_atleast_F_journal\",  data=df, order=dict_IF.keys(), palette='rainbow').set_title('Prob of at least one female per journal')\n",
    "plt.xlim([0,1])"
   ]
  },
  {
   "cell_type": "code",
   "execution_count": null,
   "metadata": {},
   "outputs": [],
   "source": [
    "sns.barplot(y=\"journal\", x=\"P_atleast_M_journal\",  data=df, order=dict_IF.keys(), palette='rainbow').set_title('Prob of at least one male per journal')\n",
    "plt.xlim([0,1])"
   ]
  },
  {
   "cell_type": "markdown",
   "metadata": {},
   "source": [
    "#### See the temporal trend of having at least one F or one M in a publication for all journals per year\n"
   ]
  },
  {
   "cell_type": "code",
   "execution_count": null,
   "metadata": {},
   "outputs": [],
   "source": [
    "years = df['year'].unique() # a list of unique journal names\n",
    "years.sort()\n",
    "print(years)\n",
    "\n",
    "for i in years: #update values for each journal\n",
    "    cond = df['year']==i\n",
    "    print(\"Number of articles = \", len(df[cond].values), \" for year \", i)\n",
    "    df.loc[cond,'P_atleast_F_year'] = df.loc[cond,'Prob_atleast_Fauthor'].sum()/df[cond].shape[0]\n",
    "    df.loc[cond,'P_atleast_M_year'] = df.loc[cond,'Prob_atleast_Mauthor'].sum()/df[cond].shape[0]\n",
    "\n"
   ]
  },
  {
   "cell_type": "code",
   "execution_count": null,
   "metadata": {},
   "outputs": [],
   "source": [
    "sns.barplot(y=\"year\", x=\"P_atleast_F_year\",  data=df, order=years, palette='rainbow').set_title('Prob of at least one female all journals per year')\n",
    "plt.xlim([0,1])"
   ]
  },
  {
   "cell_type": "code",
   "execution_count": null,
   "metadata": {},
   "outputs": [],
   "source": [
    "sns.barplot(y=\"year\", x=\"P_atleast_M_year\",  data=df, order=years, palette='rainbow').set_title('Prob of at least one male all journals per year')\n",
    "plt.xlim([0,1])"
   ]
  },
  {
   "cell_type": "markdown",
   "metadata": {},
   "source": [
    "#### Female & male percentages per year "
   ]
  },
  {
   "cell_type": "code",
   "execution_count": null,
   "metadata": {},
   "outputs": [],
   "source": [
    "last_auth_F_year = df.groupby(['year'])['Last_Author_gend'].apply(lambda x: x[x.str.contains('female')].count())\n",
    "print(last_auth_F_year)\n",
    "\n",
    "last_auth_M_year = df.groupby(['year'])['Last_Author_gend'].apply(lambda x: x[x.str.contains('male')].count())\n",
    "print(last_auth_M_year)\n",
    "\n",
    "first_auth_F_year = df.groupby(['year'])['First_Author_gend'].apply(lambda x: x[x.str.contains('female')].count())\n",
    "print(first_auth_F_year)\n",
    "\n",
    "first_auth_M_year = df.groupby(['year'])['First_Author_gend'].apply(lambda x: x[x.str.contains('male')].count())\n",
    "print(first_auth_M_year)\n",
    "\n",
    "\n"
   ]
  },
  {
   "cell_type": "markdown",
   "metadata": {},
   "source": [
    "#### We should check if the numbers above are biased or are a consequence of female/male author distribution.\n",
    "\n",
    "We can generate synthetic data using the distribution of female/male authors.\n"
   ]
  },
  {
   "cell_type": "markdown",
   "metadata": {},
   "source": [
    "#### 1. Probability of an author being female/male:"
   ]
  },
  {
   "cell_type": "code",
   "execution_count": null,
   "metadata": {},
   "outputs": [],
   "source": [
    "def Prob_author(x,y, kind=\"female\", allkinds=\"malefemale\"):\n",
    "    sum = 0\n",
    "    for elem in x:\n",
    "        if elem not in allkinds:\n",
    "            continue\n",
    "        if elem != kind:\n",
    "            sum += 1 - float(y[i]) \n",
    "        elif elem == kind:\n",
    "            sum += float(y[i])\n",
    "    return sum\n",
    "\n",
    "\n",
    "df['Prob_Fauthor'] = df.apply(lambda x: Prob_author(x.all_genders, x.all_percent, \"female\"), axis=1)\n",
    "df['Prob_Mauthor'] = df.apply(lambda x: Prob_author(x.all_genders, x.all_percent, \"male\"), axis=1)\n",
    "\n",
    "df"
   ]
  },
  {
   "cell_type": "markdown",
   "metadata": {},
   "source": [
    "#### 2. Create some synthetic genders for authors:"
   ]
  },
  {
   "cell_type": "code",
   "execution_count": null,
   "metadata": {},
   "outputs": [],
   "source": [
    "### Define a random sampler from the distribution of female/male authors:\n",
    "\n",
    "elements = ['female', 'male', 'init']\n",
    "p1 = df['Prob_Fauthor'].sum()/df['Number_authors'].sum() #prob of an author being female\n",
    "p2 = df['Prob_Mauthor'].sum()/df['Number_authors'].sum() #prob of an author being male\n",
    "p3 = 1 - p1 - p2 #prob of an author being init\n",
    "\n",
    "probabilities = [p1, p2 , p3]\n",
    "np.random.choice(elements, 10, p=probabilities) # example: take 10 random samples"
   ]
  },
  {
   "cell_type": "code",
   "execution_count": null,
   "metadata": {},
   "outputs": [],
   "source": [
    "# Generate synthetic genders per each article maintaining the number of authors:\n",
    "\n",
    "dfn = pd.DataFrame()\n",
    "\n",
    "dfn['Synth_genders'] = df['Number_authors'].apply(lambda x: np.random.choice(elements, x, p=probabilities))\n",
    "dfn"
   ]
  },
  {
   "cell_type": "code",
   "execution_count": null,
   "metadata": {},
   "outputs": [],
   "source": [
    "### Now check for these synthetics the probabilities:\n",
    "\n",
    "# prob having at least one female author\n",
    "\n",
    "def Prob_atleast_Fauthor_synth(x):\n",
    "    prod = 1\n",
    "    for i,elem in enumerate(x):\n",
    "        if elem == 'male':\n",
    "            prod *= 1 \n",
    "        elif elem == 'female':\n",
    "            prod *= 0\n",
    "    return 1 - prod\n",
    "\n",
    "dfn['Prob_atleast_Fauthor_synth'] = dfn.apply(lambda x: Prob_atleast_Fauthor_synth(x.Synth_genders), axis=1)\n",
    "\n",
    "print('Probability of having at least one female author in an article', \n",
    "      dfn['Prob_atleast_Fauthor_synth'].sum()/dfn.shape[0])\n",
    "\n",
    "# prob having at least one male author\n",
    "\n",
    "def Prob_atleast_Mauthor_synth(x):\n",
    "    prod = 1\n",
    "    for i,elem in enumerate(x):\n",
    "        if elem == 'male':\n",
    "            prod *= 0\n",
    "        elif elem == 'female':\n",
    "            prod *= 1\n",
    "    return 1 - prod\n",
    "\n",
    "dfn['Prob_atleast_Mauthor_synth'] = dfn.apply(lambda x: Prob_atleast_Mauthor_synth(x.Synth_genders), axis=1)\n",
    "\n",
    "print('Probability of having at least one male author in an article',\n",
    "      dfn['Prob_atleast_Mauthor_synth'].sum()/dfn.shape[0])\n"
   ]
  },
  {
   "cell_type": "code",
   "execution_count": null,
   "metadata": {},
   "outputs": [],
   "source": [
    "### What is the prob of first and last authorships?\n",
    "\n",
    "\n",
    "dfn['First_Author_Fperc_synth'] = dfn['Synth_genders'].apply(lambda x: 1 if x[0]=='female' else 0)\n",
    "dfn['First_Author_Mperc_synth'] = dfn['Synth_genders'].apply(lambda x: 1 if x[0]=='male' else 0)\n",
    "\n",
    "dfn['Last_Author_Fperc_synth'] = dfn['Synth_genders'].apply(lambda x: 1 if x[-1]=='female' else 0)\n",
    "dfn['Last_Author_Mperc_synth'] = dfn['Synth_genders'].apply(lambda x: 1 if x[-1]=='male' else 0)\n",
    "\n",
    "print('First author female:', dfn['First_Author_Fperc_synth'].sum()/dfn.shape[0])\n",
    "print('First author male:', dfn['First_Author_Mperc_synth'].sum()/dfn.shape[0])\n",
    "print('Last author female:', dfn['Last_Author_Fperc_synth'].sum()/dfn.shape[0])\n",
    "print('Last author male:', dfn['Last_Author_Mperc_synth'].sum()/dfn.shape[0])\n"
   ]
  },
  {
   "cell_type": "code",
   "execution_count": null,
   "metadata": {},
   "outputs": [],
   "source": []
  },
  {
   "cell_type": "code",
   "execution_count": null,
   "metadata": {},
   "outputs": [],
   "source": []
  },
  {
   "cell_type": "code",
   "execution_count": null,
   "metadata": {},
   "outputs": [],
   "source": []
  },
  {
   "cell_type": "code",
   "execution_count": null,
   "metadata": {},
   "outputs": [],
   "source": []
  },
  {
   "cell_type": "code",
   "execution_count": null,
   "metadata": {},
   "outputs": [],
   "source": []
  }
 ],
 "metadata": {
  "kernelspec": {
   "display_name": "Python 3",
   "language": "python",
   "name": "python3"
  },
  "language_info": {
   "codemirror_mode": {
    "name": "ipython",
    "version": 3
   },
   "file_extension": ".py",
   "mimetype": "text/x-python",
   "name": "python",
   "nbconvert_exporter": "python",
   "pygments_lexer": "ipython3",
   "version": "3.8.5"
  }
 },
 "nbformat": 4,
 "nbformat_minor": 4
}
