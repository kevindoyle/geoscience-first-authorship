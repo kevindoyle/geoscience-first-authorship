{
 "cells": [
  {
   "cell_type": "code",
   "execution_count": 1,
   "metadata": {},
   "outputs": [],
   "source": [
    "import re\n",
    "\n",
    "from bs4 import BeautifulSoup\n",
    "\n",
    "import selenium\n",
    "from selenium import webdriver\n",
    "\n",
    "import time\n",
    "\n",
    "import gender\n",
    "from gender import getGenders\n",
    "\n",
    "import codecs\n",
    "\n",
    "import os"
   ]
  },
  {
   "cell_type": "code",
   "execution_count": 60,
   "metadata": {},
   "outputs": [
    {
     "name": "stdout",
     "output_type": "stream",
     "text": [
      "using root directory: /home/lermert/code/geoscience-first-authorship\n"
     ]
    }
   ],
   "source": [
    "# Configure local paths\n",
    "\n",
    "root = ! pwd\n",
    "root = root[0]\n",
    "\n",
    "print(\"using root directory:\", root)\n",
    "\n",
    "CHROME_DRIVER_PATH=root+\"/deps/chromedriver\""
   ]
  },
  {
   "cell_type": "code",
   "execution_count": 61,
   "metadata": {},
   "outputs": [
    {
     "name": "stdout",
     "output_type": "stream",
     "text": [
      " deps\t        parsed\t\t\t    README.md\r\n",
      " gender.py     'Parse Journal Data.ipynb'   requirements.txt\r\n",
      " guessed        parsejournals.ipynb\t   'Scrape Journals Save Pages.ipynb'\r\n",
      " name_genders   picos\t\t\t    test\r\n",
      " pages\t        __pycache__\r\n"
     ]
    }
   ],
   "source": [
    "! ls"
   ]
  },
  {
   "cell_type": "code",
   "execution_count": 62,
   "metadata": {},
   "outputs": [],
   "source": [
    "if not os.path.exists(root+\"/pages\"):\n",
    "    os.mkdir(root+\"/pages\") "
   ]
  },
  {
   "cell_type": "code",
   "execution_count": 63,
   "metadata": {},
   "outputs": [],
   "source": [
    "class Page:\n",
    "    def __init__(self, raw, month, year, journal_id):\n",
    "        self.raw = raw\n",
    "        self.month = month\n",
    "        self.year = year\n",
    "        self.journal_id = journal_id\n",
    "        \n"
   ]
  },
  {
   "cell_type": "code",
   "execution_count": 64,
   "metadata": {},
   "outputs": [],
   "source": [
    "# Initialize webdriver\n",
    "option = webdriver.ChromeOptions()\n",
    "option.add_argument(\"--incognito\")\n",
    "browser = webdriver.Chrome(executable_path=CHROME_DRIVER_PATH, options=option)"
   ]
  },
  {
   "cell_type": "code",
   "execution_count": 56,
   "metadata": {},
   "outputs": [],
   "source": [
    "# years to collect\n",
    "years = [\n",
    "    \"2010\",\n",
    "    \"2011\",\n",
    "    \"2012\",\n",
    "    \"2013\",\n",
    "    \"2014\",\n",
    "    \"2015\",\n",
    "    \"2016\",\n",
    "    \"2017\",\n",
    "    \"2018\",\n",
    "    \"2019\",\n",
    "    \"2020\",\n",
    "    \"2021\"\n",
    "    \n",
    "]\n",
    "\n",
    "# months to collect\n",
    "months = [\n",
    "    \"01\",\n",
    "    \"02\",\n",
    "    \"03\",\n",
    "    \"04\",\n",
    "    \"05\",\n",
    "    \"06\",\n",
    "    \"07\",\n",
    "    \"08\",\n",
    "    \"09\",\n",
    "    \"10\",\n",
    "    \"11\",\n",
    "    \"12\"\n",
    "]\n",
    "\n",
    "days_in_month = [\n",
    "    \"31\",\n",
    "    \"28\",\n",
    "    \"31\",\n",
    "    \"30\",\n",
    "    \"31\",\n",
    "    \"30\",\n",
    "    \"31\",\n",
    "    \"31\",\n",
    "    \"30\",\n",
    "    \"31\",\n",
    "    \"30\",\n",
    "    \"31\"\n",
    "]"
   ]
  },
  {
   "cell_type": "markdown",
   "metadata": {},
   "source": [
    "#### AGU Journals: GRL, JGR: Solid Earth, G3"
   ]
  },
  {
   "cell_type": "code",
   "execution_count": 13,
   "metadata": {},
   "outputs": [],
   "source": [
    "# Journals to scrape. [name, template]\n",
    "\n",
    "# RESTRICT TO PAPERS WITH TERMS IN ABSTRACT: seism, earthquake\n",
    "agu_search_template = \"https://agupubs.onlinelibrary.wiley.com/action/doSearch?field1=Abstract&text1=seism+OR+earthquake&field2=AllField&text2=&field3=AllField&text3=&publication[]={publication}&Ppub=&AfterMonth={month}&AfterYear={year}&BeforeMonth={month}&BeforeYear={year}&startPage={start_page}&sortBy=Earliest&\"\n",
    "# All papers\n",
    "# agu_search_template = \"https://agupubs.onlinelibrary.wiley.com/action/doSearch?field1=AllField&text1=&field2=AllField&text2=&field3=AllField&text3=&publication[]={publication}&Ppub=&AfterMonth={month}&AfterYear={year}&BeforeMonth={month}&BeforeYear={year}&startPage={start_page}&sortBy=Earliest&\"\n",
    "\n",
    "\n",
    "journal_templates = [\n",
    "    [\"GRL\",\"19448007\"],\n",
    "    [\"JGRSolidEarth\",\"21699356\"],\n",
    "    [\"G3\",\"15252027\"],\n",
    "]"
   ]
  },
  {
   "cell_type": "code",
   "execution_count": 14,
   "metadata": {},
   "outputs": [],
   "source": [
    "# Setup to scrape AGU pages, run a test\n",
    "\n",
    "def fetch_page(browser, url):\n",
    "    browser.get(url)\n",
    "    if browser.current_url != url:\n",
    "        print(\"unexpected page url.\\n current: {} \\n expected: {}\".format(browser.current_url,url))\n",
    "        return \"\", \"\"\n",
    "    \n",
    "    # create a fingerprint for this page\n",
    "    titles = []\n",
    "    elements = browser.find_elements_by_class_name(\"publication_title\")\n",
    "    for e in elements:\n",
    "        titles.append(e.text)\n",
    "    fingerprint = \" \".join(titles)\n",
    "\n",
    "    return browser.page_source, fingerprint\n",
    "\n",
    "url = agu_search_template.format(publication=\"G3\", year=\"2013\", month=\"05\", start_page=1)\n",
    "html, fingerprint = fetch_page(browser, url)\n",
    "\n",
    "with codecs.open(\"test/test_page.html\", \"w\", \"utf8\") as outfile:\n",
    "    outfile.write(html)\n",
    "    \n",
    "\n"
   ]
  },
  {
   "cell_type": "code",
   "execution_count": 15,
   "metadata": {},
   "outputs": [
    {
     "name": "stdout",
     "output_type": "stream",
     "text": [
      "scraping journal: GRL\n",
      "scraping year: 2021\n",
      "scraping month: 01\n",
      "scraping journal: JGRSolidEarth\n",
      "scraping year: 2021\n",
      "scraping month: 01\n",
      "scraping journal: G3\n",
      "scraping year: 2021\n",
      "scraping month: 01\n"
     ]
    }
   ],
   "source": [
    "# Collect the pages\n",
    "\n",
    "previous_fingerprint = \"\"\n",
    "\n",
    "\n",
    "for journal_name, journal_id in journal_templates:\n",
    "    print(\"scraping journal:\", journal_name)\n",
    "    for year in years:\n",
    "        print(\"scraping year:\", year)\n",
    "        for month in months:\n",
    "            print(\"scraping month:\", month)\n",
    "            for page in range(1,101):\n",
    "                url = agu_search_template.format(publication=journal_id, year=year, month=month, start_page=page)\n",
    "                html, fingerprint = fetch_page(browser, url)\n",
    "                if len(html) == 0:\n",
    "                    print(\"nothing to save for\", url)\n",
    "                    continue\n",
    "                if fingerprint == previous_fingerprint:\n",
    "                    print(\"done on page\", page)\n",
    "                    # page already seen, move to the next month\n",
    "                    break\n",
    "                if len(fingerprint) == 0:\n",
    "                    # page already seen, move to the next month\n",
    "                    print(\"done on page\", page)\n",
    "                    break\n",
    "                previous_fingerprint = fingerprint\n",
    "\n",
    "                filename = \"{name}_{year}_{month}_{page}.html\".format(name=journal_name, year=year, month=month, page=page)\n",
    "                with codecs.open(\"pages/\"+filename, \"w\", \"utf8\") as outfile:\n",
    "                    outfile.write(html)\n",
    "\n",
    "                time.sleep(2)\n",
    "            "
   ]
  },
  {
   "cell_type": "code",
   "execution_count": 16,
   "metadata": {},
   "outputs": [
    {
     "name": "stdout",
     "output_type": "stream",
     "text": [
      "-rw-rw-r-- 1 lermert lermert 310141 May  1 14:50 GRL_2021_01_1.html\r\n",
      "-rw-rw-r-- 1 lermert lermert 350380 May  1 14:50 JGRSolidEarth_2021_01_1.html\r\n",
      "-rw-rw-r-- 1 lermert lermert 330139 May  1 14:50 G3_2021_01_1.html\r\n"
     ]
    }
   ],
   "source": [
    "! ls -ltr pages | tail -3"
   ]
  },
  {
   "cell_type": "markdown",
   "metadata": {},
   "source": [
    "#### Geophysical Journal International "
   ]
  },
  {
   "cell_type": "code",
   "execution_count": 57,
   "metadata": {},
   "outputs": [],
   "source": [
    "# template url\n",
    "\n",
    "gji_template = \"https://academic.oup.com/gji/search-results?sort=Date+%e2%80%93+Newest+First&f_TocHeadingTitle=Seismology&f_ArticleTypeDisplayName=Review+ArticleANDResearch+Article&fl_SiteID=5282&rg_ArticleDate={month}/01/{year}%20TO%20{month}/{last_day}/{year}&dateFilterType=range&noDateTypes=true&qb=%7b%22q%22%3a%22%22%7d&page={start_page}\""
   ]
  },
  {
   "cell_type": "code",
   "execution_count": 58,
   "metadata": {},
   "outputs": [
    {
     "name": "stdout",
     "output_type": "stream",
     "text": [
      "unexpected page url.\n",
      " current: https://academic.oup.com/crawlprevention/governor?content=%2fgji%2fsearch-results%3fsort%3dDate%2b%25E2%2580%2593%2bNewest%2bFirst%26f_TocHeadingTitle%3dSeismology%26f_ArticleTypeDisplayName%3dReview%2bArticleANDResearch%2bArticle%26fl_SiteID%3d5282%26rg_ArticleDate%3d01%2f01%2f2013%2520TO%252001%2f31%2f2013%26dateFilterType%3drange%26noDateTypes%3dtrue%26qb%3d%257B%2522q%2522%253a%2522%2522%257D%26page%3d1 \n",
      " expected: https://academic.oup.com/gji/search-results?sort=Date+%e2%80%93+Newest+First&f_TocHeadingTitle=Seismology&f_ArticleTypeDisplayName=Review+ArticleANDResearch+Article&fl_SiteID=5282&rg_ArticleDate=01/01/2013%20TO%2001/31/2013&dateFilterType=range&noDateTypes=true&qb=%7b%22q%22%3a%22%22%7d&page=1\n"
     ]
    }
   ],
   "source": [
    "# Setup to scrape GJI pages, run a test\n",
    "\n",
    "def fetch_gji_page(browser, url):\n",
    "    browser.get(url)\n",
    "    if browser.current_url != url:\n",
    "        print(\"unexpected page url.\\n current: {} \\n expected: {}\".format(browser.current_url,url))\n",
    "        return \"\", \"\"\n",
    "    \n",
    "    # create a fingerprint for this page\n",
    "    titles = []\n",
    "    elements = browser.find_elements_by_class_name(\"article-link\")\n",
    "    for e in elements:\n",
    "        titles.append(e.text)\n",
    "    fingerprint = \" \".join(titles)\n",
    "\n",
    "    return browser.page_source, fingerprint\n",
    "\n",
    "url = gji_template.format(year=\"2013\", month=\"01\", last_day=\"31\", start_page=1)\n",
    "html, fingerprint = fetch_gji_page(browser, url)\n",
    "\n",
    "with codecs.open(\"test/test_gji_page.html\", \"w\", \"utf8\") as outfile:\n",
    "    outfile.write(html)"
   ]
  },
  {
   "cell_type": "code",
   "execution_count": 65,
   "metadata": {},
   "outputs": [
    {
     "name": "stdout",
     "output_type": "stream",
     "text": [
      "scraping year: 2010\n",
      "scraping month: 01\n",
      "unexpected page url.\n",
      " current: https://academic.oup.com/crawlprevention/governor?content=%2fgji%2fsearch-results%3fsort%3dDate%2b%25E2%2580%2593%2bNewest%2bFirst%26f_TocHeadingTitle%3dSeismology%26f_ArticleTypeDisplayName%3dReview%2bArticleANDResearch%2bArticle%26fl_SiteID%3d5282%26rg_ArticleDate%3d01%2f01%2f2010%2520TO%252001%2f31%2f2010%26dateFilterType%3drange%26noDateTypes%3dtrue%26qb%3d%257B%2522q%2522%253a%2522%2522%257D%26page%3d1 \n",
      " expected: https://academic.oup.com/gji/search-results?sort=Date+%e2%80%93+Newest+First&f_TocHeadingTitle=Seismology&f_ArticleTypeDisplayName=Review+ArticleANDResearch+Article&fl_SiteID=5282&rg_ArticleDate=01/01/2010%20TO%2001/31/2010&dateFilterType=range&noDateTypes=true&qb=%7b%22q%22%3a%22%22%7d&page=1\n",
      "nothing to save for https://academic.oup.com/gji/search-results?sort=Date+%e2%80%93+Newest+First&f_TocHeadingTitle=Seismology&f_ArticleTypeDisplayName=Review+ArticleANDResearch+Article&fl_SiteID=5282&rg_ArticleDate=01/01/2010%20TO%2001/31/2010&dateFilterType=range&noDateTypes=true&qb=%7b%22q%22%3a%22%22%7d&page=1\n",
      "unexpected page url.\n",
      " current: https://academic.oup.com/crawlprevention/governor?content=%2fgji%2fsearch-results%3fsort%3dDate%2b%25E2%2580%2593%2bNewest%2bFirst%26f_TocHeadingTitle%3dSeismology%26f_ArticleTypeDisplayName%3dReview%2bArticleANDResearch%2bArticle%26fl_SiteID%3d5282%26rg_ArticleDate%3d01%2f01%2f2010%2520TO%252001%2f31%2f2010%26dateFilterType%3drange%26noDateTypes%3dtrue%26qb%3d%257B%2522q%2522%253a%2522%2522%257D%26page%3d2 \n",
      " expected: https://academic.oup.com/gji/search-results?sort=Date+%e2%80%93+Newest+First&f_TocHeadingTitle=Seismology&f_ArticleTypeDisplayName=Review+ArticleANDResearch+Article&fl_SiteID=5282&rg_ArticleDate=01/01/2010%20TO%2001/31/2010&dateFilterType=range&noDateTypes=true&qb=%7b%22q%22%3a%22%22%7d&page=2\n",
      "nothing to save for https://academic.oup.com/gji/search-results?sort=Date+%e2%80%93+Newest+First&f_TocHeadingTitle=Seismology&f_ArticleTypeDisplayName=Review+ArticleANDResearch+Article&fl_SiteID=5282&rg_ArticleDate=01/01/2010%20TO%2001/31/2010&dateFilterType=range&noDateTypes=true&qb=%7b%22q%22%3a%22%22%7d&page=2\n",
      "unexpected page url.\n",
      " current: https://academic.oup.com/crawlprevention/governor?content=%2fgji%2fsearch-results%3fsort%3dDate%2b%25E2%2580%2593%2bNewest%2bFirst%26f_TocHeadingTitle%3dSeismology%26f_ArticleTypeDisplayName%3dReview%2bArticleANDResearch%2bArticle%26fl_SiteID%3d5282%26rg_ArticleDate%3d01%2f01%2f2010%2520TO%252001%2f31%2f2010%26dateFilterType%3drange%26noDateTypes%3dtrue%26qb%3d%257B%2522q%2522%253a%2522%2522%257D%26page%3d3 \n",
      " expected: https://academic.oup.com/gji/search-results?sort=Date+%e2%80%93+Newest+First&f_TocHeadingTitle=Seismology&f_ArticleTypeDisplayName=Review+ArticleANDResearch+Article&fl_SiteID=5282&rg_ArticleDate=01/01/2010%20TO%2001/31/2010&dateFilterType=range&noDateTypes=true&qb=%7b%22q%22%3a%22%22%7d&page=3\n",
      "nothing to save for https://academic.oup.com/gji/search-results?sort=Date+%e2%80%93+Newest+First&f_TocHeadingTitle=Seismology&f_ArticleTypeDisplayName=Review+ArticleANDResearch+Article&fl_SiteID=5282&rg_ArticleDate=01/01/2010%20TO%2001/31/2010&dateFilterType=range&noDateTypes=true&qb=%7b%22q%22%3a%22%22%7d&page=3\n",
      "unexpected page url.\n",
      " current: https://academic.oup.com/crawlprevention/governor?content=%2fgji%2fsearch-results%3fsort%3dDate%2b%25E2%2580%2593%2bNewest%2bFirst%26f_TocHeadingTitle%3dSeismology%26f_ArticleTypeDisplayName%3dReview%2bArticleANDResearch%2bArticle%26fl_SiteID%3d5282%26rg_ArticleDate%3d01%2f01%2f2010%2520TO%252001%2f31%2f2010%26dateFilterType%3drange%26noDateTypes%3dtrue%26qb%3d%257B%2522q%2522%253a%2522%2522%257D%26page%3d4 \n",
      " expected: https://academic.oup.com/gji/search-results?sort=Date+%e2%80%93+Newest+First&f_TocHeadingTitle=Seismology&f_ArticleTypeDisplayName=Review+ArticleANDResearch+Article&fl_SiteID=5282&rg_ArticleDate=01/01/2010%20TO%2001/31/2010&dateFilterType=range&noDateTypes=true&qb=%7b%22q%22%3a%22%22%7d&page=4\n",
      "nothing to save for https://academic.oup.com/gji/search-results?sort=Date+%e2%80%93+Newest+First&f_TocHeadingTitle=Seismology&f_ArticleTypeDisplayName=Review+ArticleANDResearch+Article&fl_SiteID=5282&rg_ArticleDate=01/01/2010%20TO%2001/31/2010&dateFilterType=range&noDateTypes=true&qb=%7b%22q%22%3a%22%22%7d&page=4\n",
      "unexpected page url.\n",
      " current: https://academic.oup.com/crawlprevention/governor?content=%2fgji%2fsearch-results%3fsort%3dDate%2b%25E2%2580%2593%2bNewest%2bFirst%26f_TocHeadingTitle%3dSeismology%26f_ArticleTypeDisplayName%3dReview%2bArticleANDResearch%2bArticle%26fl_SiteID%3d5282%26rg_ArticleDate%3d01%2f01%2f2010%2520TO%252001%2f31%2f2010%26dateFilterType%3drange%26noDateTypes%3dtrue%26qb%3d%257B%2522q%2522%253a%2522%2522%257D%26page%3d5 \n",
      " expected: https://academic.oup.com/gji/search-results?sort=Date+%e2%80%93+Newest+First&f_TocHeadingTitle=Seismology&f_ArticleTypeDisplayName=Review+ArticleANDResearch+Article&fl_SiteID=5282&rg_ArticleDate=01/01/2010%20TO%2001/31/2010&dateFilterType=range&noDateTypes=true&qb=%7b%22q%22%3a%22%22%7d&page=5\n",
      "nothing to save for https://academic.oup.com/gji/search-results?sort=Date+%e2%80%93+Newest+First&f_TocHeadingTitle=Seismology&f_ArticleTypeDisplayName=Review+ArticleANDResearch+Article&fl_SiteID=5282&rg_ArticleDate=01/01/2010%20TO%2001/31/2010&dateFilterType=range&noDateTypes=true&qb=%7b%22q%22%3a%22%22%7d&page=5\n",
      "unexpected page url.\n",
      " current: https://academic.oup.com/crawlprevention/governor?content=%2fgji%2fsearch-results%3fsort%3dDate%2b%25E2%2580%2593%2bNewest%2bFirst%26f_TocHeadingTitle%3dSeismology%26f_ArticleTypeDisplayName%3dReview%2bArticleANDResearch%2bArticle%26fl_SiteID%3d5282%26rg_ArticleDate%3d01%2f01%2f2010%2520TO%252001%2f31%2f2010%26dateFilterType%3drange%26noDateTypes%3dtrue%26qb%3d%257B%2522q%2522%253a%2522%2522%257D%26page%3d6 \n",
      " expected: https://academic.oup.com/gji/search-results?sort=Date+%e2%80%93+Newest+First&f_TocHeadingTitle=Seismology&f_ArticleTypeDisplayName=Review+ArticleANDResearch+Article&fl_SiteID=5282&rg_ArticleDate=01/01/2010%20TO%2001/31/2010&dateFilterType=range&noDateTypes=true&qb=%7b%22q%22%3a%22%22%7d&page=6\n",
      "nothing to save for https://academic.oup.com/gji/search-results?sort=Date+%e2%80%93+Newest+First&f_TocHeadingTitle=Seismology&f_ArticleTypeDisplayName=Review+ArticleANDResearch+Article&fl_SiteID=5282&rg_ArticleDate=01/01/2010%20TO%2001/31/2010&dateFilterType=range&noDateTypes=true&qb=%7b%22q%22%3a%22%22%7d&page=6\n"
     ]
    },
    {
     "ename": "KeyboardInterrupt",
     "evalue": "",
     "output_type": "error",
     "traceback": [
      "\u001b[0;31m---------------------------------------------------------------------------\u001b[0m",
      "\u001b[0;31mKeyboardInterrupt\u001b[0m                         Traceback (most recent call last)",
      "\u001b[0;32m<ipython-input-65-861f0f6251bd>\u001b[0m in \u001b[0;36m<module>\u001b[0;34m\u001b[0m\n\u001b[1;32m     15\u001b[0m                 \u001b[0mlast_day\u001b[0m\u001b[0;34m=\u001b[0m\u001b[0mlast_day\u001b[0m\u001b[0;34m,\u001b[0m\u001b[0;34m\u001b[0m\u001b[0;34m\u001b[0m\u001b[0m\n\u001b[1;32m     16\u001b[0m                 start_page=page)\n\u001b[0;32m---> 17\u001b[0;31m             \u001b[0mhtml\u001b[0m\u001b[0;34m,\u001b[0m \u001b[0mfingerprint\u001b[0m \u001b[0;34m=\u001b[0m \u001b[0mfetch_gji_page\u001b[0m\u001b[0;34m(\u001b[0m\u001b[0mbrowser\u001b[0m\u001b[0;34m,\u001b[0m \u001b[0murl\u001b[0m\u001b[0;34m)\u001b[0m\u001b[0;34m\u001b[0m\u001b[0;34m\u001b[0m\u001b[0m\n\u001b[0m\u001b[1;32m     18\u001b[0m             \u001b[0;32mif\u001b[0m \u001b[0mlen\u001b[0m\u001b[0;34m(\u001b[0m\u001b[0mhtml\u001b[0m\u001b[0;34m)\u001b[0m \u001b[0;34m==\u001b[0m \u001b[0;36m0\u001b[0m\u001b[0;34m:\u001b[0m\u001b[0;34m\u001b[0m\u001b[0;34m\u001b[0m\u001b[0m\n\u001b[1;32m     19\u001b[0m                 \u001b[0mprint\u001b[0m\u001b[0;34m(\u001b[0m\u001b[0;34m\"nothing to save for\"\u001b[0m\u001b[0;34m,\u001b[0m \u001b[0murl\u001b[0m\u001b[0;34m)\u001b[0m\u001b[0;34m\u001b[0m\u001b[0;34m\u001b[0m\u001b[0m\n",
      "\u001b[0;32m<ipython-input-58-66b4053e00ea>\u001b[0m in \u001b[0;36mfetch_gji_page\u001b[0;34m(browser, url)\u001b[0m\n\u001b[1;32m      2\u001b[0m \u001b[0;34m\u001b[0m\u001b[0m\n\u001b[1;32m      3\u001b[0m \u001b[0;32mdef\u001b[0m \u001b[0mfetch_gji_page\u001b[0m\u001b[0;34m(\u001b[0m\u001b[0mbrowser\u001b[0m\u001b[0;34m,\u001b[0m \u001b[0murl\u001b[0m\u001b[0;34m)\u001b[0m\u001b[0;34m:\u001b[0m\u001b[0;34m\u001b[0m\u001b[0;34m\u001b[0m\u001b[0m\n\u001b[0;32m----> 4\u001b[0;31m     \u001b[0mbrowser\u001b[0m\u001b[0;34m.\u001b[0m\u001b[0mget\u001b[0m\u001b[0;34m(\u001b[0m\u001b[0murl\u001b[0m\u001b[0;34m)\u001b[0m\u001b[0;34m\u001b[0m\u001b[0;34m\u001b[0m\u001b[0m\n\u001b[0m\u001b[1;32m      5\u001b[0m     \u001b[0;32mif\u001b[0m \u001b[0mbrowser\u001b[0m\u001b[0;34m.\u001b[0m\u001b[0mcurrent_url\u001b[0m \u001b[0;34m!=\u001b[0m \u001b[0murl\u001b[0m\u001b[0;34m:\u001b[0m\u001b[0;34m\u001b[0m\u001b[0;34m\u001b[0m\u001b[0m\n\u001b[1;32m      6\u001b[0m         \u001b[0mprint\u001b[0m\u001b[0;34m(\u001b[0m\u001b[0;34m\"unexpected page url.\\n current: {} \\n expected: {}\"\u001b[0m\u001b[0;34m.\u001b[0m\u001b[0mformat\u001b[0m\u001b[0;34m(\u001b[0m\u001b[0mbrowser\u001b[0m\u001b[0;34m.\u001b[0m\u001b[0mcurrent_url\u001b[0m\u001b[0;34m,\u001b[0m\u001b[0murl\u001b[0m\u001b[0;34m)\u001b[0m\u001b[0;34m)\u001b[0m\u001b[0;34m\u001b[0m\u001b[0;34m\u001b[0m\u001b[0m\n",
      "\u001b[0;32m~/code/geoscience-first-authorship/picos/lib/python3.8/site-packages/selenium/webdriver/remote/webdriver.py\u001b[0m in \u001b[0;36mget\u001b[0;34m(self, url)\u001b[0m\n\u001b[1;32m    331\u001b[0m         \u001b[0mLoads\u001b[0m \u001b[0ma\u001b[0m \u001b[0mweb\u001b[0m \u001b[0mpage\u001b[0m \u001b[0;32min\u001b[0m \u001b[0mthe\u001b[0m \u001b[0mcurrent\u001b[0m \u001b[0mbrowser\u001b[0m \u001b[0msession\u001b[0m\u001b[0;34m.\u001b[0m\u001b[0;34m\u001b[0m\u001b[0;34m\u001b[0m\u001b[0m\n\u001b[1;32m    332\u001b[0m         \"\"\"\n\u001b[0;32m--> 333\u001b[0;31m         \u001b[0mself\u001b[0m\u001b[0;34m.\u001b[0m\u001b[0mexecute\u001b[0m\u001b[0;34m(\u001b[0m\u001b[0mCommand\u001b[0m\u001b[0;34m.\u001b[0m\u001b[0mGET\u001b[0m\u001b[0;34m,\u001b[0m \u001b[0;34m{\u001b[0m\u001b[0;34m'url'\u001b[0m\u001b[0;34m:\u001b[0m \u001b[0murl\u001b[0m\u001b[0;34m}\u001b[0m\u001b[0;34m)\u001b[0m\u001b[0;34m\u001b[0m\u001b[0;34m\u001b[0m\u001b[0m\n\u001b[0m\u001b[1;32m    334\u001b[0m \u001b[0;34m\u001b[0m\u001b[0m\n\u001b[1;32m    335\u001b[0m     \u001b[0;34m@\u001b[0m\u001b[0mproperty\u001b[0m\u001b[0;34m\u001b[0m\u001b[0;34m\u001b[0m\u001b[0m\n",
      "\u001b[0;32m~/code/geoscience-first-authorship/picos/lib/python3.8/site-packages/selenium/webdriver/remote/webdriver.py\u001b[0m in \u001b[0;36mexecute\u001b[0;34m(self, driver_command, params)\u001b[0m\n\u001b[1;32m    317\u001b[0m \u001b[0;34m\u001b[0m\u001b[0m\n\u001b[1;32m    318\u001b[0m         \u001b[0mparams\u001b[0m \u001b[0;34m=\u001b[0m \u001b[0mself\u001b[0m\u001b[0;34m.\u001b[0m\u001b[0m_wrap_value\u001b[0m\u001b[0;34m(\u001b[0m\u001b[0mparams\u001b[0m\u001b[0;34m)\u001b[0m\u001b[0;34m\u001b[0m\u001b[0;34m\u001b[0m\u001b[0m\n\u001b[0;32m--> 319\u001b[0;31m         \u001b[0mresponse\u001b[0m \u001b[0;34m=\u001b[0m \u001b[0mself\u001b[0m\u001b[0;34m.\u001b[0m\u001b[0mcommand_executor\u001b[0m\u001b[0;34m.\u001b[0m\u001b[0mexecute\u001b[0m\u001b[0;34m(\u001b[0m\u001b[0mdriver_command\u001b[0m\u001b[0;34m,\u001b[0m \u001b[0mparams\u001b[0m\u001b[0;34m)\u001b[0m\u001b[0;34m\u001b[0m\u001b[0;34m\u001b[0m\u001b[0m\n\u001b[0m\u001b[1;32m    320\u001b[0m         \u001b[0;32mif\u001b[0m \u001b[0mresponse\u001b[0m\u001b[0;34m:\u001b[0m\u001b[0;34m\u001b[0m\u001b[0;34m\u001b[0m\u001b[0m\n\u001b[1;32m    321\u001b[0m             \u001b[0mself\u001b[0m\u001b[0;34m.\u001b[0m\u001b[0merror_handler\u001b[0m\u001b[0;34m.\u001b[0m\u001b[0mcheck_response\u001b[0m\u001b[0;34m(\u001b[0m\u001b[0mresponse\u001b[0m\u001b[0;34m)\u001b[0m\u001b[0;34m\u001b[0m\u001b[0;34m\u001b[0m\u001b[0m\n",
      "\u001b[0;32m~/code/geoscience-first-authorship/picos/lib/python3.8/site-packages/selenium/webdriver/remote/remote_connection.py\u001b[0m in \u001b[0;36mexecute\u001b[0;34m(self, command, params)\u001b[0m\n\u001b[1;32m    372\u001b[0m         \u001b[0mdata\u001b[0m \u001b[0;34m=\u001b[0m \u001b[0mutils\u001b[0m\u001b[0;34m.\u001b[0m\u001b[0mdump_json\u001b[0m\u001b[0;34m(\u001b[0m\u001b[0mparams\u001b[0m\u001b[0;34m)\u001b[0m\u001b[0;34m\u001b[0m\u001b[0;34m\u001b[0m\u001b[0m\n\u001b[1;32m    373\u001b[0m         \u001b[0murl\u001b[0m \u001b[0;34m=\u001b[0m \u001b[0;34m'%s%s'\u001b[0m \u001b[0;34m%\u001b[0m \u001b[0;34m(\u001b[0m\u001b[0mself\u001b[0m\u001b[0;34m.\u001b[0m\u001b[0m_url\u001b[0m\u001b[0;34m,\u001b[0m \u001b[0mpath\u001b[0m\u001b[0;34m)\u001b[0m\u001b[0;34m\u001b[0m\u001b[0;34m\u001b[0m\u001b[0m\n\u001b[0;32m--> 374\u001b[0;31m         \u001b[0;32mreturn\u001b[0m \u001b[0mself\u001b[0m\u001b[0;34m.\u001b[0m\u001b[0m_request\u001b[0m\u001b[0;34m(\u001b[0m\u001b[0mcommand_info\u001b[0m\u001b[0;34m[\u001b[0m\u001b[0;36m0\u001b[0m\u001b[0;34m]\u001b[0m\u001b[0;34m,\u001b[0m \u001b[0murl\u001b[0m\u001b[0;34m,\u001b[0m \u001b[0mbody\u001b[0m\u001b[0;34m=\u001b[0m\u001b[0mdata\u001b[0m\u001b[0;34m)\u001b[0m\u001b[0;34m\u001b[0m\u001b[0;34m\u001b[0m\u001b[0m\n\u001b[0m\u001b[1;32m    375\u001b[0m \u001b[0;34m\u001b[0m\u001b[0m\n\u001b[1;32m    376\u001b[0m     \u001b[0;32mdef\u001b[0m \u001b[0m_request\u001b[0m\u001b[0;34m(\u001b[0m\u001b[0mself\u001b[0m\u001b[0;34m,\u001b[0m \u001b[0mmethod\u001b[0m\u001b[0;34m,\u001b[0m \u001b[0murl\u001b[0m\u001b[0;34m,\u001b[0m \u001b[0mbody\u001b[0m\u001b[0;34m=\u001b[0m\u001b[0;32mNone\u001b[0m\u001b[0;34m)\u001b[0m\u001b[0;34m:\u001b[0m\u001b[0;34m\u001b[0m\u001b[0;34m\u001b[0m\u001b[0m\n",
      "\u001b[0;32m~/code/geoscience-first-authorship/picos/lib/python3.8/site-packages/selenium/webdriver/remote/remote_connection.py\u001b[0m in \u001b[0;36m_request\u001b[0;34m(self, method, url, body)\u001b[0m\n\u001b[1;32m    395\u001b[0m \u001b[0;34m\u001b[0m\u001b[0m\n\u001b[1;32m    396\u001b[0m         \u001b[0;32mif\u001b[0m \u001b[0mself\u001b[0m\u001b[0;34m.\u001b[0m\u001b[0mkeep_alive\u001b[0m\u001b[0;34m:\u001b[0m\u001b[0;34m\u001b[0m\u001b[0;34m\u001b[0m\u001b[0m\n\u001b[0;32m--> 397\u001b[0;31m             \u001b[0mresp\u001b[0m \u001b[0;34m=\u001b[0m \u001b[0mself\u001b[0m\u001b[0;34m.\u001b[0m\u001b[0m_conn\u001b[0m\u001b[0;34m.\u001b[0m\u001b[0mrequest\u001b[0m\u001b[0;34m(\u001b[0m\u001b[0mmethod\u001b[0m\u001b[0;34m,\u001b[0m \u001b[0murl\u001b[0m\u001b[0;34m,\u001b[0m \u001b[0mbody\u001b[0m\u001b[0;34m=\u001b[0m\u001b[0mbody\u001b[0m\u001b[0;34m,\u001b[0m \u001b[0mheaders\u001b[0m\u001b[0;34m=\u001b[0m\u001b[0mheaders\u001b[0m\u001b[0;34m)\u001b[0m\u001b[0;34m\u001b[0m\u001b[0;34m\u001b[0m\u001b[0m\n\u001b[0m\u001b[1;32m    398\u001b[0m \u001b[0;34m\u001b[0m\u001b[0m\n\u001b[1;32m    399\u001b[0m             \u001b[0mstatuscode\u001b[0m \u001b[0;34m=\u001b[0m \u001b[0mresp\u001b[0m\u001b[0;34m.\u001b[0m\u001b[0mstatus\u001b[0m\u001b[0;34m\u001b[0m\u001b[0;34m\u001b[0m\u001b[0m\n",
      "\u001b[0;32m~/code/geoscience-first-authorship/picos/lib/python3.8/site-packages/urllib3/request.py\u001b[0m in \u001b[0;36mrequest\u001b[0;34m(self, method, url, fields, headers, **urlopen_kw)\u001b[0m\n\u001b[1;32m     77\u001b[0m             )\n\u001b[1;32m     78\u001b[0m         \u001b[0;32melse\u001b[0m\u001b[0;34m:\u001b[0m\u001b[0;34m\u001b[0m\u001b[0;34m\u001b[0m\u001b[0m\n\u001b[0;32m---> 79\u001b[0;31m             return self.request_encode_body(\n\u001b[0m\u001b[1;32m     80\u001b[0m                 \u001b[0mmethod\u001b[0m\u001b[0;34m,\u001b[0m \u001b[0murl\u001b[0m\u001b[0;34m,\u001b[0m \u001b[0mfields\u001b[0m\u001b[0;34m=\u001b[0m\u001b[0mfields\u001b[0m\u001b[0;34m,\u001b[0m \u001b[0mheaders\u001b[0m\u001b[0;34m=\u001b[0m\u001b[0mheaders\u001b[0m\u001b[0;34m,\u001b[0m \u001b[0;34m**\u001b[0m\u001b[0murlopen_kw\u001b[0m\u001b[0;34m\u001b[0m\u001b[0;34m\u001b[0m\u001b[0m\n\u001b[1;32m     81\u001b[0m             )\n",
      "\u001b[0;32m~/code/geoscience-first-authorship/picos/lib/python3.8/site-packages/urllib3/request.py\u001b[0m in \u001b[0;36mrequest_encode_body\u001b[0;34m(self, method, url, fields, headers, encode_multipart, multipart_boundary, **urlopen_kw)\u001b[0m\n\u001b[1;32m    169\u001b[0m         \u001b[0mextra_kw\u001b[0m\u001b[0;34m.\u001b[0m\u001b[0mupdate\u001b[0m\u001b[0;34m(\u001b[0m\u001b[0murlopen_kw\u001b[0m\u001b[0;34m)\u001b[0m\u001b[0;34m\u001b[0m\u001b[0;34m\u001b[0m\u001b[0m\n\u001b[1;32m    170\u001b[0m \u001b[0;34m\u001b[0m\u001b[0m\n\u001b[0;32m--> 171\u001b[0;31m         \u001b[0;32mreturn\u001b[0m \u001b[0mself\u001b[0m\u001b[0;34m.\u001b[0m\u001b[0murlopen\u001b[0m\u001b[0;34m(\u001b[0m\u001b[0mmethod\u001b[0m\u001b[0;34m,\u001b[0m \u001b[0murl\u001b[0m\u001b[0;34m,\u001b[0m \u001b[0;34m**\u001b[0m\u001b[0mextra_kw\u001b[0m\u001b[0;34m)\u001b[0m\u001b[0;34m\u001b[0m\u001b[0;34m\u001b[0m\u001b[0m\n\u001b[0m",
      "\u001b[0;32m~/code/geoscience-first-authorship/picos/lib/python3.8/site-packages/urllib3/poolmanager.py\u001b[0m in \u001b[0;36murlopen\u001b[0;34m(self, method, url, redirect, **kw)\u001b[0m\n\u001b[1;32m    328\u001b[0m             \u001b[0mresponse\u001b[0m \u001b[0;34m=\u001b[0m \u001b[0mconn\u001b[0m\u001b[0;34m.\u001b[0m\u001b[0murlopen\u001b[0m\u001b[0;34m(\u001b[0m\u001b[0mmethod\u001b[0m\u001b[0;34m,\u001b[0m \u001b[0murl\u001b[0m\u001b[0;34m,\u001b[0m \u001b[0;34m**\u001b[0m\u001b[0mkw\u001b[0m\u001b[0;34m)\u001b[0m\u001b[0;34m\u001b[0m\u001b[0;34m\u001b[0m\u001b[0m\n\u001b[1;32m    329\u001b[0m         \u001b[0;32melse\u001b[0m\u001b[0;34m:\u001b[0m\u001b[0;34m\u001b[0m\u001b[0;34m\u001b[0m\u001b[0m\n\u001b[0;32m--> 330\u001b[0;31m             \u001b[0mresponse\u001b[0m \u001b[0;34m=\u001b[0m \u001b[0mconn\u001b[0m\u001b[0;34m.\u001b[0m\u001b[0murlopen\u001b[0m\u001b[0;34m(\u001b[0m\u001b[0mmethod\u001b[0m\u001b[0;34m,\u001b[0m \u001b[0mu\u001b[0m\u001b[0;34m.\u001b[0m\u001b[0mrequest_uri\u001b[0m\u001b[0;34m,\u001b[0m \u001b[0;34m**\u001b[0m\u001b[0mkw\u001b[0m\u001b[0;34m)\u001b[0m\u001b[0;34m\u001b[0m\u001b[0;34m\u001b[0m\u001b[0m\n\u001b[0m\u001b[1;32m    331\u001b[0m \u001b[0;34m\u001b[0m\u001b[0m\n\u001b[1;32m    332\u001b[0m         \u001b[0mredirect_location\u001b[0m \u001b[0;34m=\u001b[0m \u001b[0mredirect\u001b[0m \u001b[0;32mand\u001b[0m \u001b[0mresponse\u001b[0m\u001b[0;34m.\u001b[0m\u001b[0mget_redirect_location\u001b[0m\u001b[0;34m(\u001b[0m\u001b[0;34m)\u001b[0m\u001b[0;34m\u001b[0m\u001b[0;34m\u001b[0m\u001b[0m\n",
      "\u001b[0;32m~/code/geoscience-first-authorship/picos/lib/python3.8/site-packages/urllib3/connectionpool.py\u001b[0m in \u001b[0;36murlopen\u001b[0;34m(self, method, url, body, headers, retries, redirect, assert_same_host, timeout, pool_timeout, release_conn, chunked, body_pos, **response_kw)\u001b[0m\n\u001b[1;32m    663\u001b[0m \u001b[0;34m\u001b[0m\u001b[0m\n\u001b[1;32m    664\u001b[0m             \u001b[0;31m# Make the request on the httplib connection object.\u001b[0m\u001b[0;34m\u001b[0m\u001b[0;34m\u001b[0m\u001b[0;34m\u001b[0m\u001b[0m\n\u001b[0;32m--> 665\u001b[0;31m             httplib_response = self._make_request(\n\u001b[0m\u001b[1;32m    666\u001b[0m                 \u001b[0mconn\u001b[0m\u001b[0;34m,\u001b[0m\u001b[0;34m\u001b[0m\u001b[0;34m\u001b[0m\u001b[0m\n\u001b[1;32m    667\u001b[0m                 \u001b[0mmethod\u001b[0m\u001b[0;34m,\u001b[0m\u001b[0;34m\u001b[0m\u001b[0;34m\u001b[0m\u001b[0m\n",
      "\u001b[0;32m~/code/geoscience-first-authorship/picos/lib/python3.8/site-packages/urllib3/connectionpool.py\u001b[0m in \u001b[0;36m_make_request\u001b[0;34m(self, conn, method, url, timeout, chunked, **httplib_request_kw)\u001b[0m\n\u001b[1;32m    419\u001b[0m                     \u001b[0;31m# Python 3 (including for exceptions like SystemExit).\u001b[0m\u001b[0;34m\u001b[0m\u001b[0;34m\u001b[0m\u001b[0;34m\u001b[0m\u001b[0m\n\u001b[1;32m    420\u001b[0m                     \u001b[0;31m# Otherwise it looks like a bug in the code.\u001b[0m\u001b[0;34m\u001b[0m\u001b[0;34m\u001b[0m\u001b[0;34m\u001b[0m\u001b[0m\n\u001b[0;32m--> 421\u001b[0;31m                     \u001b[0msix\u001b[0m\u001b[0;34m.\u001b[0m\u001b[0mraise_from\u001b[0m\u001b[0;34m(\u001b[0m\u001b[0me\u001b[0m\u001b[0;34m,\u001b[0m \u001b[0;32mNone\u001b[0m\u001b[0;34m)\u001b[0m\u001b[0;34m\u001b[0m\u001b[0;34m\u001b[0m\u001b[0m\n\u001b[0m\u001b[1;32m    422\u001b[0m         \u001b[0;32mexcept\u001b[0m \u001b[0;34m(\u001b[0m\u001b[0mSocketTimeout\u001b[0m\u001b[0;34m,\u001b[0m \u001b[0mBaseSSLError\u001b[0m\u001b[0;34m,\u001b[0m \u001b[0mSocketError\u001b[0m\u001b[0;34m)\u001b[0m \u001b[0;32mas\u001b[0m \u001b[0me\u001b[0m\u001b[0;34m:\u001b[0m\u001b[0;34m\u001b[0m\u001b[0;34m\u001b[0m\u001b[0m\n\u001b[1;32m    423\u001b[0m             \u001b[0mself\u001b[0m\u001b[0;34m.\u001b[0m\u001b[0m_raise_timeout\u001b[0m\u001b[0;34m(\u001b[0m\u001b[0merr\u001b[0m\u001b[0;34m=\u001b[0m\u001b[0me\u001b[0m\u001b[0;34m,\u001b[0m \u001b[0murl\u001b[0m\u001b[0;34m=\u001b[0m\u001b[0murl\u001b[0m\u001b[0;34m,\u001b[0m \u001b[0mtimeout_value\u001b[0m\u001b[0;34m=\u001b[0m\u001b[0mread_timeout\u001b[0m\u001b[0;34m)\u001b[0m\u001b[0;34m\u001b[0m\u001b[0;34m\u001b[0m\u001b[0m\n",
      "\u001b[0;32m~/code/geoscience-first-authorship/picos/lib/python3.8/site-packages/six.py\u001b[0m in \u001b[0;36mraise_from\u001b[0;34m(value, from_value)\u001b[0m\n",
      "\u001b[0;32m~/code/geoscience-first-authorship/picos/lib/python3.8/site-packages/urllib3/connectionpool.py\u001b[0m in \u001b[0;36m_make_request\u001b[0;34m(self, conn, method, url, timeout, chunked, **httplib_request_kw)\u001b[0m\n\u001b[1;32m    414\u001b[0m                 \u001b[0;31m# Python 3\u001b[0m\u001b[0;34m\u001b[0m\u001b[0;34m\u001b[0m\u001b[0;34m\u001b[0m\u001b[0m\n\u001b[1;32m    415\u001b[0m                 \u001b[0;32mtry\u001b[0m\u001b[0;34m:\u001b[0m\u001b[0;34m\u001b[0m\u001b[0;34m\u001b[0m\u001b[0m\n\u001b[0;32m--> 416\u001b[0;31m                     \u001b[0mhttplib_response\u001b[0m \u001b[0;34m=\u001b[0m \u001b[0mconn\u001b[0m\u001b[0;34m.\u001b[0m\u001b[0mgetresponse\u001b[0m\u001b[0;34m(\u001b[0m\u001b[0;34m)\u001b[0m\u001b[0;34m\u001b[0m\u001b[0;34m\u001b[0m\u001b[0m\n\u001b[0m\u001b[1;32m    417\u001b[0m                 \u001b[0;32mexcept\u001b[0m \u001b[0mBaseException\u001b[0m \u001b[0;32mas\u001b[0m \u001b[0me\u001b[0m\u001b[0;34m:\u001b[0m\u001b[0;34m\u001b[0m\u001b[0;34m\u001b[0m\u001b[0m\n\u001b[1;32m    418\u001b[0m                     \u001b[0;31m# Remove the TypeError from the exception chain in\u001b[0m\u001b[0;34m\u001b[0m\u001b[0;34m\u001b[0m\u001b[0;34m\u001b[0m\u001b[0m\n",
      "\u001b[0;32m/usr/lib/python3.8/http/client.py\u001b[0m in \u001b[0;36mgetresponse\u001b[0;34m(self)\u001b[0m\n\u001b[1;32m   1345\u001b[0m         \u001b[0;32mtry\u001b[0m\u001b[0;34m:\u001b[0m\u001b[0;34m\u001b[0m\u001b[0;34m\u001b[0m\u001b[0m\n\u001b[1;32m   1346\u001b[0m             \u001b[0;32mtry\u001b[0m\u001b[0;34m:\u001b[0m\u001b[0;34m\u001b[0m\u001b[0;34m\u001b[0m\u001b[0m\n\u001b[0;32m-> 1347\u001b[0;31m                 \u001b[0mresponse\u001b[0m\u001b[0;34m.\u001b[0m\u001b[0mbegin\u001b[0m\u001b[0;34m(\u001b[0m\u001b[0;34m)\u001b[0m\u001b[0;34m\u001b[0m\u001b[0;34m\u001b[0m\u001b[0m\n\u001b[0m\u001b[1;32m   1348\u001b[0m             \u001b[0;32mexcept\u001b[0m \u001b[0mConnectionError\u001b[0m\u001b[0;34m:\u001b[0m\u001b[0;34m\u001b[0m\u001b[0;34m\u001b[0m\u001b[0m\n\u001b[1;32m   1349\u001b[0m                 \u001b[0mself\u001b[0m\u001b[0;34m.\u001b[0m\u001b[0mclose\u001b[0m\u001b[0;34m(\u001b[0m\u001b[0;34m)\u001b[0m\u001b[0;34m\u001b[0m\u001b[0;34m\u001b[0m\u001b[0m\n",
      "\u001b[0;32m/usr/lib/python3.8/http/client.py\u001b[0m in \u001b[0;36mbegin\u001b[0;34m(self)\u001b[0m\n\u001b[1;32m    305\u001b[0m         \u001b[0;31m# read until we get a non-100 response\u001b[0m\u001b[0;34m\u001b[0m\u001b[0;34m\u001b[0m\u001b[0;34m\u001b[0m\u001b[0m\n\u001b[1;32m    306\u001b[0m         \u001b[0;32mwhile\u001b[0m \u001b[0;32mTrue\u001b[0m\u001b[0;34m:\u001b[0m\u001b[0;34m\u001b[0m\u001b[0;34m\u001b[0m\u001b[0m\n\u001b[0;32m--> 307\u001b[0;31m             \u001b[0mversion\u001b[0m\u001b[0;34m,\u001b[0m \u001b[0mstatus\u001b[0m\u001b[0;34m,\u001b[0m \u001b[0mreason\u001b[0m \u001b[0;34m=\u001b[0m \u001b[0mself\u001b[0m\u001b[0;34m.\u001b[0m\u001b[0m_read_status\u001b[0m\u001b[0;34m(\u001b[0m\u001b[0;34m)\u001b[0m\u001b[0;34m\u001b[0m\u001b[0;34m\u001b[0m\u001b[0m\n\u001b[0m\u001b[1;32m    308\u001b[0m             \u001b[0;32mif\u001b[0m \u001b[0mstatus\u001b[0m \u001b[0;34m!=\u001b[0m \u001b[0mCONTINUE\u001b[0m\u001b[0;34m:\u001b[0m\u001b[0;34m\u001b[0m\u001b[0;34m\u001b[0m\u001b[0m\n\u001b[1;32m    309\u001b[0m                 \u001b[0;32mbreak\u001b[0m\u001b[0;34m\u001b[0m\u001b[0;34m\u001b[0m\u001b[0m\n",
      "\u001b[0;32m/usr/lib/python3.8/http/client.py\u001b[0m in \u001b[0;36m_read_status\u001b[0;34m(self)\u001b[0m\n\u001b[1;32m    266\u001b[0m \u001b[0;34m\u001b[0m\u001b[0m\n\u001b[1;32m    267\u001b[0m     \u001b[0;32mdef\u001b[0m \u001b[0m_read_status\u001b[0m\u001b[0;34m(\u001b[0m\u001b[0mself\u001b[0m\u001b[0;34m)\u001b[0m\u001b[0;34m:\u001b[0m\u001b[0;34m\u001b[0m\u001b[0;34m\u001b[0m\u001b[0m\n\u001b[0;32m--> 268\u001b[0;31m         \u001b[0mline\u001b[0m \u001b[0;34m=\u001b[0m \u001b[0mstr\u001b[0m\u001b[0;34m(\u001b[0m\u001b[0mself\u001b[0m\u001b[0;34m.\u001b[0m\u001b[0mfp\u001b[0m\u001b[0;34m.\u001b[0m\u001b[0mreadline\u001b[0m\u001b[0;34m(\u001b[0m\u001b[0m_MAXLINE\u001b[0m \u001b[0;34m+\u001b[0m \u001b[0;36m1\u001b[0m\u001b[0;34m)\u001b[0m\u001b[0;34m,\u001b[0m \u001b[0;34m\"iso-8859-1\"\u001b[0m\u001b[0;34m)\u001b[0m\u001b[0;34m\u001b[0m\u001b[0;34m\u001b[0m\u001b[0m\n\u001b[0m\u001b[1;32m    269\u001b[0m         \u001b[0;32mif\u001b[0m \u001b[0mlen\u001b[0m\u001b[0;34m(\u001b[0m\u001b[0mline\u001b[0m\u001b[0;34m)\u001b[0m \u001b[0;34m>\u001b[0m \u001b[0m_MAXLINE\u001b[0m\u001b[0;34m:\u001b[0m\u001b[0;34m\u001b[0m\u001b[0;34m\u001b[0m\u001b[0m\n\u001b[1;32m    270\u001b[0m             \u001b[0;32mraise\u001b[0m \u001b[0mLineTooLong\u001b[0m\u001b[0;34m(\u001b[0m\u001b[0;34m\"status line\"\u001b[0m\u001b[0;34m)\u001b[0m\u001b[0;34m\u001b[0m\u001b[0;34m\u001b[0m\u001b[0m\n",
      "\u001b[0;32m/usr/lib/python3.8/socket.py\u001b[0m in \u001b[0;36mreadinto\u001b[0;34m(self, b)\u001b[0m\n\u001b[1;32m    667\u001b[0m         \u001b[0;32mwhile\u001b[0m \u001b[0;32mTrue\u001b[0m\u001b[0;34m:\u001b[0m\u001b[0;34m\u001b[0m\u001b[0;34m\u001b[0m\u001b[0m\n\u001b[1;32m    668\u001b[0m             \u001b[0;32mtry\u001b[0m\u001b[0;34m:\u001b[0m\u001b[0;34m\u001b[0m\u001b[0;34m\u001b[0m\u001b[0m\n\u001b[0;32m--> 669\u001b[0;31m                 \u001b[0;32mreturn\u001b[0m \u001b[0mself\u001b[0m\u001b[0;34m.\u001b[0m\u001b[0m_sock\u001b[0m\u001b[0;34m.\u001b[0m\u001b[0mrecv_into\u001b[0m\u001b[0;34m(\u001b[0m\u001b[0mb\u001b[0m\u001b[0;34m)\u001b[0m\u001b[0;34m\u001b[0m\u001b[0;34m\u001b[0m\u001b[0m\n\u001b[0m\u001b[1;32m    670\u001b[0m             \u001b[0;32mexcept\u001b[0m \u001b[0mtimeout\u001b[0m\u001b[0;34m:\u001b[0m\u001b[0;34m\u001b[0m\u001b[0;34m\u001b[0m\u001b[0m\n\u001b[1;32m    671\u001b[0m                 \u001b[0mself\u001b[0m\u001b[0;34m.\u001b[0m\u001b[0m_timeout_occurred\u001b[0m \u001b[0;34m=\u001b[0m \u001b[0;32mTrue\u001b[0m\u001b[0;34m\u001b[0m\u001b[0;34m\u001b[0m\u001b[0m\n",
      "\u001b[0;31mKeyboardInterrupt\u001b[0m: "
     ]
    }
   ],
   "source": [
    "# Scrape GJI\n",
    "\n",
    "\n",
    "previous_fingerprint = \"\"\n",
    "\n",
    "for year in years:\n",
    "    print(\"scraping year:\", year)\n",
    "    for i, month in enumerate(months):\n",
    "        print(\"scraping month:\", month)\n",
    "        last_day = days_in_month[i]\n",
    "        for page in range(1,101):\n",
    "            url = gji_template.format(\n",
    "                year=year,\n",
    "                month=month,\n",
    "                last_day=last_day,\n",
    "                start_page=page)\n",
    "            html, fingerprint = fetch_gji_page(browser, url)\n",
    "            if len(html) == 0:\n",
    "                print(\"nothing to save for\", url)\n",
    "                continue\n",
    "            if fingerprint == previous_fingerprint:\n",
    "                # page already seen, move to the next month\n",
    "                print(\"done on page\", page)\n",
    "                break\n",
    "            if len(fingerprint) == 0:\n",
    "                # page already seen, move to the next month\n",
    "                print(\"done on page\", page)\n",
    "                break\n",
    "            previous_fingerprint = fingerprint\n",
    "\n",
    "            filename = \"GJI_{year}_{month}_{page}.html\".format(year=year, month=month, page=page)\n",
    "            with codecs.open(\"pages/\"+filename, \"w\", \"utf8\") as outfile:\n",
    "                outfile.write(html)\n",
    "\n",
    "            time.sleep(5.5)\n",
    "                "
   ]
  },
  {
   "cell_type": "markdown",
   "metadata": {},
   "source": [
    "#### GEOPHYSICS"
   ]
  },
  {
   "cell_type": "code",
   "execution_count": 34,
   "metadata": {},
   "outputs": [],
   "source": [
    "# template\n",
    "\n",
    "geophysics_template = \"https://library.seg.org/action/doSearch?field1=Abstract&text1=seism*+OR+earthquake&publication=&publication%5B%5D=gpysa7&Ppub=&AfterMonth={month}&AfterYear={year}&BeforeMonth={month}&BeforeYear={year}&startPage={start_page}&sortBy=Earliest\"\n",
    "\n",
    "# Be careful: page number starts from 0 for this journal"
   ]
  },
  {
   "cell_type": "code",
   "execution_count": 35,
   "metadata": {},
   "outputs": [
    {
     "name": "stdout",
     "output_type": "stream",
     "text": [
      "unexpected page url.\n",
      " current: https://library.seg.org/action/doSearch?field1=Abstract&text1=seism*+OR+earthquake&publication=&publication%5B%5D=gpysa7&Ppub=&AfterMonth=01&AfterYear=2013&BeforeMonth=01&BeforeYear=2013&startPage=0&sortBy=Earliest& \n",
      " expected: https://library.seg.org/action/doSearch?field1=Abstract&text1=seism*+OR+earthquake&publication=&publication%5B%5D=gpysa7&Ppub=&AfterMonth=01&AfterYear=2013&BeforeMonth=01&BeforeYear=2013&startPage=0&sortBy=Earliest\n"
     ]
    }
   ],
   "source": [
    "# Setup to scrape Geophysics pages, run a test\n",
    "\n",
    "def fetch_geophysics_page(browser, url):\n",
    "    browser.get(url)\n",
    "    if browser.current_url != url:\n",
    "        print(\"unexpected page url.\\n current: {} \\n expected: {}\".format(browser.current_url,url))\n",
    "        return \"\", \"\"\n",
    "    \n",
    "    # create a fingerprint for this page\n",
    "    titles = []\n",
    "    elements = browser.find_elements_by_class_name(\"issue-item__title\")\n",
    "    for e in elements:\n",
    "        titles.append(e.text)\n",
    "    fingerprint = \" \".join(titles)\n",
    "\n",
    "    return browser.page_source, fingerprint\n",
    "\n",
    "url = geophysics_template.format(year=\"2013\", month=\"01\", start_page=0)\n",
    "html, fingerprint = fetch_geophysics_page(browser, url)\n",
    "\n",
    "with codecs.open(\"test/test_geophysics_page.html\", \"w\", \"utf8\") as outfile:\n",
    "    outfile.write(html)"
   ]
  },
  {
   "cell_type": "code",
   "execution_count": 37,
   "metadata": {},
   "outputs": [
    {
     "name": "stdout",
     "output_type": "stream",
     "text": [
      "scraping year: 2021\n",
      "scraping month: 01\n",
      "done on page 3\n"
     ]
    }
   ],
   "source": [
    "# Scrape Geophysics\n",
    "previous_fingerprint = \"\"\n",
    "\n",
    "for year in years:\n",
    "    print(\"scraping year:\", year)\n",
    "    for i, month in enumerate(months):\n",
    "        print(\"scraping month:\", month)\n",
    "        for page in range(100):\n",
    "            url = geophysics_template.format(\n",
    "                year=year,\n",
    "                month=month,\n",
    "                start_page=page)\n",
    "            html, fingerprint = fetch_geophysics_page(browser, url)\n",
    "            if len(html) == 0:\n",
    "                print(\"nothing to save for\", url)\n",
    "                continue\n",
    "            if fingerprint == previous_fingerprint:\n",
    "                # page already seen, move to the next month\n",
    "                print(\"done on page\", page)\n",
    "                break\n",
    "            if len(fingerprint) == 0:\n",
    "                # page already seen, move to the next month\n",
    "                print(\"done on page\", page)\n",
    "                break\n",
    "            previous_fingerprint = fingerprint\n",
    "\n",
    "            filename = \"GEOPHYSICS_{year}_{month}_{page}.html\".format(year=year, month=month, page=page)\n",
    "            with codecs.open(\"pages/\"+filename, \"w\", \"utf8\") as outfile:\n",
    "                outfile.write(html)\n",
    "\n",
    "            time.sleep(2)\n",
    "                "
   ]
  },
  {
   "cell_type": "markdown",
   "metadata": {},
   "source": [
    "#### GeoScienceWorld journal: BSSA and SRL"
   ]
  },
  {
   "cell_type": "code",
   "execution_count": 38,
   "metadata": {},
   "outputs": [],
   "source": [
    "# GeoScienceWorld journal values\n",
    "\n",
    "gsw_template = \"https://pubs.geoscienceworld.org/search-results?page={page_number}&f_JournalDisplayName={journal_name}&fl_ContentType=Journal+Article+OR+Journal+OR+Book+OR+Book+Chapter+OR+GeoRef+Record&fl_JournalID={publication}&rg_PublicationDate={month}%2f{day}%2f{year}+TO+{month}%2f{last_day}%2f{year}&restypeid=3&f_ArticleTypeDisplayName=Research+Article\" \n",
    "\n",
    "gsw_journal_values = [\n",
    "    [\"Bulletin+of+the+Seismological+Society+of+America\",\"66\"],\n",
    "    [\"Seismological+Research+Letters\",\"65\"]\n",
    "]"
   ]
  },
  {
   "cell_type": "code",
   "execution_count": 39,
   "metadata": {},
   "outputs": [],
   "source": [
    "# Setup to scrape GSW pages\n",
    "\n",
    "def fetch_gsw_page(browser, url):\n",
    "    browser.get(url)\n",
    "    if browser.current_url != url:\n",
    "        print(\"unexpected page url.\\n current: {} \\n expected: {}\".format(browser.current_url,url))\n",
    "        return \"\", \"\"\n",
    "    \n",
    "    # create a fingerprint for this page\n",
    "    titles = []\n",
    "    elements = browser.find_elements_by_class_name(\"al-title\")\n",
    "    for e in elements:\n",
    "        titles.append(e.text)\n",
    "    fingerprint = \" \".join(titles)\n",
    "\n",
    "    return browser.page_source, fingerprint\n",
    "\n",
    "url = gsw_template.format(\n",
    "                    journal_name=\"Seismological+Research+Letters\",\n",
    "                    publication=\"65\",\n",
    "                    year=\"2016\",\n",
    "                    month=\"03\",\n",
    "                    day=\"01\",\n",
    "                    last_day=\"31\",\n",
    "                    page_number=1)\n",
    "html, fingerprint = fetch_gsw_page(browser, url)\n",
    "\n",
    "with codecs.open(\"test/test_gsw_page.html\", \"w\", \"utf8\") as outfile:\n",
    "    outfile.write(html)\n",
    "    \n",
    "\n"
   ]
  },
  {
   "cell_type": "code",
   "execution_count": 40,
   "metadata": {},
   "outputs": [
    {
     "name": "stdout",
     "output_type": "stream",
     "text": [
      "scraping journal: Bulletin+of+the+Seismological+Society+of+America\n",
      "scraping year: 2021\n",
      "scraping month: 01\n",
      "done on page 3\n",
      "scraping journal: Seismological+Research+Letters\n",
      "scraping year: 2021\n",
      "scraping month: 01\n",
      "done on page 4\n"
     ]
    }
   ],
   "source": [
    "# Scrape GeoScienceWorld\n",
    "previous_fingerprint = \"\"\n",
    "\n",
    "for journal_name, journal_id in gsw_journal_values:\n",
    "    print(\"scraping journal:\", journal_name)\n",
    "    for year in years:\n",
    "        print(\"scraping year:\", year)\n",
    "        for i, month in enumerate(months):\n",
    "            print(\"scraping month:\", month)\n",
    "            last_day = days_in_month[i]\n",
    "            for page in range(1,101):\n",
    "                url = gsw_template.format(\n",
    "                    journal_name=journal_name,\n",
    "                    publication=journal_id,\n",
    "                    year=year,\n",
    "                    month=month,\n",
    "                    day=\"01\",\n",
    "                    last_day=last_day,\n",
    "                    page_number=page)\n",
    "                html, fingerprint = fetch_gsw_page(browser, url)\n",
    "                if len(html) == 0:\n",
    "                    print(\"nothing to save for\", url)\n",
    "                    continue\n",
    "                if fingerprint == previous_fingerprint:\n",
    "                    # page already seen, move to the next month\n",
    "                    print(\"done on page\", page)\n",
    "                    break\n",
    "                if len(fingerprint) == 0:\n",
    "                    # page already seen, move to the next month\n",
    "                    print(\"done on page\", page)\n",
    "                    break\n",
    "                previous_fingerprint = fingerprint\n",
    "\n",
    "                filename = \"{name}_{year}_{month}_{page}.html\".format(name=journal_name, year=year, month=month, page=page)\n",
    "                with codecs.open(\"pages/\"+filename, \"w\", \"utf8\") as outfile:\n",
    "                    outfile.write(html)\n",
    "\n",
    "                time.sleep(2)\n",
    "                "
   ]
  },
  {
   "cell_type": "markdown",
   "metadata": {},
   "source": [
    "#### Nature geoscience"
   ]
  },
  {
   "cell_type": "code",
   "execution_count": 42,
   "metadata": {},
   "outputs": [],
   "source": [
    "# setup to scrape nature geoscience\n",
    "\n",
    "ngs_template = \"https://www.nature.com/search?article_type=research%2Creviews&date_range={year}-{year}&journal=ngeo&subject=seismology&order=relevance&page={page}\" \n",
    "\n",
    "\n",
    "def fetch_ngs_page(browser, url):\n",
    "    browser.get(url)\n",
    "    if browser.current_url != url:\n",
    "        print(\"unexpected page url.\\n current: {} \\n expected: {}\".format(browser.current_url,url))\n",
    "        return \"\", \"\"\n",
    "    \n",
    "    # create a fingerprint for this page\n",
    "    titles = []\n",
    "    elements = browser.find_elements_by_class_name(\"h3\")\n",
    "    for e in elements:\n",
    "        titles.append(e.text)\n",
    "    fingerprint = \" \".join(titles)\n",
    "\n",
    "    return browser.page_source, fingerprint\n",
    "\n",
    "url = ngs_template.format(year=\"2015\", page=1)\n",
    "html, fingerprint = fetch_ngs_page(browser, url)\n",
    "\n",
    "with codecs.open(\"test/test_ngs_page.html\", \"w\", \"utf8\") as outfile:\n",
    "    outfile.write(html)\n",
    "    \n",
    "# print(\"fingerprint:\", fingerprint)\n"
   ]
  },
  {
   "cell_type": "code",
   "execution_count": 43,
   "metadata": {},
   "outputs": [
    {
     "name": "stdout",
     "output_type": "stream",
     "text": [
      "scraping year: 2021\n",
      "done on page 3\n"
     ]
    }
   ],
   "source": [
    "# scrape nature geoscience\n",
    "\n",
    "previous_fingerprint = \"\"\n",
    "\n",
    "for year in years:\n",
    "    print(\"scraping year:\", year)\n",
    "    for page in range(1,101):\n",
    "        url = ngs_template.format(year=year, page=page)\n",
    "        html, fingerprint = fetch_ngs_page(browser, url)\n",
    "        if len(html) == 0:\n",
    "            print(\"nothing to save for\", url)\n",
    "            continue\n",
    "        if fingerprint == previous_fingerprint:\n",
    "            # page already seen, move to the next month\n",
    "            print(\"done on page\", page)\n",
    "            break\n",
    "        if len(fingerprint) == 0:\n",
    "            # page already seen, move to the next month\n",
    "            print(\"done on page\", page)\n",
    "            break\n",
    "        previous_fingerprint = fingerprint\n",
    "\n",
    "        filename = \"{name}_{year}_{month}_{page}.html\".format(name=\"NatureGeoscience\", year=year, month=\"0\", page=page)\n",
    "        with codecs.open(\"pages/\"+filename, \"w\", \"utf8\") as outfile:\n",
    "            outfile.write(html)\n",
    "\n",
    "        time.sleep(2)\n"
   ]
  },
  {
   "cell_type": "markdown",
   "metadata": {},
   "source": [
    "#### Nature"
   ]
  },
  {
   "cell_type": "code",
   "execution_count": 44,
   "metadata": {},
   "outputs": [
    {
     "name": "stdout",
     "output_type": "stream",
     "text": [
      "fingerprint: Scale dependence of rock friction at high work rate Lithospheric controls on magma composition along Earth’s longest continental hotspot track Broad plumes rooted at the base of the Earth's mantle beneath major hotspots Western US intermountain seismicity caused by changes in upper mantle flow The role of ridges in the formation and longevity of flat slabs A seismic reflection image for the base of a tectonic plate Seismic evidence of effects of water on melt transport in the Lau back-arc mantle\n"
     ]
    }
   ],
   "source": [
    "# setup to scrape nature \n",
    "\n",
    "nature_template = \"https://www.nature.com/search?article_type=research%2Creviews&date_range={year}-{year}&journal=nature&subject=seismology&order=relevance&page={page}\" \n",
    "\n",
    "\n",
    "def fetch_nature_page(browser, url):\n",
    "    browser.get(url)\n",
    "    if browser.current_url != url:\n",
    "        print(\"unexpected page url.\\n current: {} \\n expected: {}\".format(browser.current_url,url))\n",
    "        return \"\", \"\"\n",
    "    \n",
    "    # create a fingerprint for this page\n",
    "    titles = []\n",
    "    elements = browser.find_elements_by_class_name(\"h3\")\n",
    "    for e in elements:\n",
    "        titles.append(e.text)\n",
    "    fingerprint = \" \".join(titles)\n",
    "\n",
    "    return browser.page_source, fingerprint\n",
    "\n",
    "url = nature_template.format(year=\"2015\", page=1)\n",
    "html, fingerprint = fetch_nature_page(browser, url)\n",
    "\n",
    "with codecs.open(\"test/test_nature_page.html\", \"w\", \"utf8\") as outfile:\n",
    "    outfile.write(html)\n",
    "    \n",
    "# print(\"fingerprint:\", fingerprint)\n"
   ]
  },
  {
   "cell_type": "code",
   "execution_count": 45,
   "metadata": {},
   "outputs": [
    {
     "name": "stdout",
     "output_type": "stream",
     "text": [
      "scraping year: 2021\n",
      "done on page 3\n"
     ]
    }
   ],
   "source": [
    "# scrape nature \n",
    "\n",
    "previous_fingerprint = \"\"\n",
    "\n",
    "for year in years:\n",
    "    print(\"scraping year:\", year)\n",
    "    for page in range(1,101):\n",
    "        url = nature_template.format(year=year, page=page)\n",
    "        html, fingerprint = fetch_nature_page(browser, url)\n",
    "        if len(html) == 0:\n",
    "            print(\"nothing to save for\", url)\n",
    "            continue\n",
    "        if fingerprint == previous_fingerprint:\n",
    "            # page already seen, move to the next month\n",
    "            print(\"done on page\", page)\n",
    "            break\n",
    "        if len(fingerprint) == 0:\n",
    "            # page already seen, move to the next month\n",
    "            print(\"done on page\", page)\n",
    "            break\n",
    "        previous_fingerprint = fingerprint\n",
    "\n",
    "        filename = \"{name}_{year}_{month}_{page}.html\".format(name=\"Nature\", year=year, month=\"0\", page=page)\n",
    "        with codecs.open(\"pages/\"+filename, \"w\", \"utf8\") as outfile:\n",
    "            outfile.write(html)\n",
    "\n",
    "        time.sleep(2)\n"
   ]
  },
  {
   "cell_type": "markdown",
   "metadata": {},
   "source": [
    "#### Solid Earth"
   ]
  },
  {
   "cell_type": "code",
   "execution_count": 47,
   "metadata": {},
   "outputs": [],
   "source": [
    "se_template = \"https://editor.copernicus.org/search.php?abstract=earthquake+seism&startYear={year}&endYear={year}&paperVersion=final&journal=431&page={page}\"\n",
    "\n",
    "def fetch_se_page(browser, url):\n",
    "    browser.get(url)\n",
    "    if browser.current_url != url:\n",
    "        print(\"unexpected page url.\\n current: {} \\n expected: {}\".format(browser.current_url,url))\n",
    "        return \"\", \"\"\n",
    "    \n",
    "    # create a fingerprint for this page\n",
    "    titles = []\n",
    "    elements = browser.find_elements_by_class_name(\"article-title\")\n",
    "    for e in elements:\n",
    "        titles.append(e.text)\n",
    "    fingerprint = \" \".join(titles)\n",
    "\n",
    "    return browser.page_source, fingerprint\n",
    "\n",
    "url = se_template.format(year=\"2015\", page=2)\n",
    "html, fingerprint = fetch_se_page(browser, url)\n",
    "\n",
    "with codecs.open(\"test/test_se_page.html\", \"w\", \"utf8\") as outfile:\n",
    "    outfile.write(html)\n",
    "    \n",
    "# print(\"fingerprint:\", fingerprint)"
   ]
  },
  {
   "cell_type": "code",
   "execution_count": 48,
   "metadata": {},
   "outputs": [
    {
     "name": "stdout",
     "output_type": "stream",
     "text": [
      "scraping year: 2021\n",
      "done on page 5\n"
     ]
    }
   ],
   "source": [
    "# scrape Solid Earth \n",
    "\n",
    "previous_fingerprint = \"\"\n",
    "\n",
    "for year in years:\n",
    "    print(\"scraping year:\", year)\n",
    "    for page in range(1,101):\n",
    "        url = se_template.format(year=year, page=page)\n",
    "        html, fingerprint = fetch_se_page(browser, url)\n",
    "        if len(html) == 0:\n",
    "            print(\"nothing to save for\", url)\n",
    "            continue\n",
    "        if fingerprint == previous_fingerprint:\n",
    "            # page already seen, move to the next month\n",
    "            print(\"done on page\", page)\n",
    "            break\n",
    "        if len(fingerprint) == 0:\n",
    "            # page already seen, move to the next month\n",
    "            print(\"done on page\", page)\n",
    "            break\n",
    "        previous_fingerprint = fingerprint\n",
    "\n",
    "        filename = \"{name}_{year}_{month}_{page}.html\".format(name=\"SolidEarth\", year=year, month=\"0\", page=page)\n",
    "        with codecs.open(\"pages/\"+filename, \"w\", \"utf8\") as outfile:\n",
    "            outfile.write(html)\n",
    "\n",
    "        time.sleep(2)\n"
   ]
  },
  {
   "cell_type": "markdown",
   "metadata": {},
   "source": [
    "#### Science AAAS"
   ]
  },
  {
   "cell_type": "code",
   "execution_count": 49,
   "metadata": {},
   "outputs": [],
   "source": [
    "science_template = \"http://classic.sciencemag.org/search?journalcode=sci&volume=&firstpage=&submit=yes&doi=&submit=yes&fulltext=&andorexactfulltext=or&titleabstract=seism%2C+earthquake&andorexacttitleabs=or&title=&andorexacttitle=and&author1=&author2=&fmonth=Jan&fyear={year}&tmonth=Dec&tyear={year}&hits=125&sortspec=date&submit=yes&resourcetype=HWCIT&tocsectionid=Original+Research&submit=yes&submit.x=46&submit.y=8\""
   ]
  },
  {
   "cell_type": "code",
   "execution_count": 51,
   "metadata": {},
   "outputs": [],
   "source": [
    "def fetch_science_page(browser, url):\n",
    "    browser.get(url)\n",
    "    if browser.current_url != url:\n",
    "        print(\"unexpected page url.\\n current: {} \\n expected: {}\".format(browser.current_url,url))\n",
    "        return \"\", \"\"\n",
    "    time.sleep(10)\n",
    "    # create a fingerprint for this page\n",
    "    titles = []\n",
    "    elements = browser.find_elements_by_class_name(\"cit-first-element\")\n",
    "    for e in elements:\n",
    "        titles.append(e.text)\n",
    "    fingerprint = \" \".join(titles)\n",
    "\n",
    "    return browser.page_source, fingerprint\n",
    "\n",
    "url = science_template.format(year=\"2018\")\n",
    "html, fingerprint = fetch_science_page(browser, url)\n",
    "\n",
    "with codecs.open(\"test/test_science_page.html\", \"w\", \"utf8\") as outfile:\n",
    "    outfile.write(html)\n",
    "# print(\"fingerprint:\", fingerprint)"
   ]
  },
  {
   "cell_type": "code",
   "execution_count": 52,
   "metadata": {},
   "outputs": [
    {
     "name": "stdout",
     "output_type": "stream",
     "text": [
      "http://classic.sciencemag.org/search?journalcode=sci&volume=&firstpage=&submit=yes&doi=&submit=yes&fulltext=&andorexactfulltext=or&titleabstract=seism%2C+earthquake&andorexacttitleabs=or&title=&andorexacttitle=and&author1=&author2=&fmonth=Jan&fyear=2018&tmonth=Dec&tyear=2018&hits=125&sortspec=date&submit=yes&resourcetype=HWCIT&tocsectionid=Original+Research&submit=yes&submit.x=46&submit.y=8\n"
     ]
    }
   ],
   "source": [
    "print(url)"
   ]
  },
  {
   "cell_type": "code",
   "execution_count": null,
   "metadata": {},
   "outputs": [],
   "source": [
    "# scrape Science and Science Advances \n",
    "\n",
    "for year in years:\n",
    "    print(\"scraping year:\", year)\n",
    "    url = science_template.format(year=year)\n",
    "    html, fingerprint = fetch_science_page(browser, url)\n",
    "    if len(html) == 0:\n",
    "        print(\"nothing to save for\", url)\n",
    "        continue\n",
    "    if len(fingerprint) == 0:\n",
    "        print(\"no articles found\")\n",
    "        break\n",
    "    filename = \"{name}_{year}_{month}_{page}.html\".format(name=\"Science\", year=year, month=\"0\", page=\"1\")\n",
    "    with codecs.open(\"pages/\"+filename, \"w\", \"utf8\") as outfile:\n",
    "        outfile.write(html)\n",
    "\n",
    "    time.sleep(2)\n"
   ]
  },
  {
   "cell_type": "markdown",
   "metadata": {},
   "source": [
    "#### Science Direct"
   ]
  },
  {
   "cell_type": "code",
   "execution_count": 54,
   "metadata": {},
   "outputs": [],
   "source": [
    "# setup for science direct scraping\n",
    "\n",
    "# note: offset is (page-1)*100\n",
    "science_direct_template = \"https://www.sciencedirect.com/search?pub={journal}&cid={journal_id}&date={year}&articleTypes=REV%2CFLA&show=100&tak=seismo%20OR%20seismi%20OR%20earthquake&sortBy=relevance&offset={offset}\"\n",
    "sd_journal_values = [\n",
    "    [\"Tectonophysics\", \"271882\"],\n",
    "    [\"Physics+of+the+Earth+and+Planetary+Interiors\", \"271835\"],\n",
    "    [\"Earth+and+Planetary+Science+Letters\", \"271830\"]\n",
    "    \n",
    "]\n",
    "\n",
    "def fetch_sd_page(browser, url):\n",
    "    browser.get(url)\n",
    "    if browser.current_url != url:\n",
    "        print(\"unexpected page url.\\n current: {} \\n expected: {}\".format(browser.current_url,url))\n",
    "        return \"\", \"\"\n",
    "    time.sleep(5)\n",
    "    # create a fingerprint for this page\n",
    "    titles = []\n",
    "    elements = browser.find_elements_by_class_name(\"result-list-title-link\")\n",
    "    #print(elements)\n",
    "    for e in elements:\n",
    "        titles.append(e.text)\n",
    "    fingerprint = \" \".join(titles)\n",
    "\n",
    "    return browser.page_source, fingerprint\n",
    "\n",
    "journal, journal_id = sd_journal_values[0]\n",
    "url = science_direct_template.format(journal=journal, journal_id=journal_id, year=\"2011\", offset=0)\n",
    "html, fingerprint = fetch_sd_page(browser, url)\n",
    "\n",
    "with codecs.open(\"test/test_sd_page.html\", \"w\", \"utf8\") as outfile:\n",
    "    outfile.write(html)\n",
    "    \n",
    "# print(\"fingerprint:\", fingerprint)"
   ]
  },
  {
   "cell_type": "code",
   "execution_count": 55,
   "metadata": {},
   "outputs": [
    {
     "name": "stdout",
     "output_type": "stream",
     "text": [
      "scraping year: 2021\n",
      "done on page 3\n",
      "scraping year: 2021\n",
      "done on page 3\n",
      "scraping year: 2021\n",
      "done on page 1\n"
     ]
    }
   ],
   "source": [
    "# scrape science direct\n",
    "\n",
    "previous_fingerprint = \"\"\n",
    "\n",
    "for journal, journal_id in sd_journal_values:\n",
    "    for year in years:\n",
    "        print(\"scraping year:\", year)\n",
    "        for page in range(1,101):\n",
    "            url = science_direct_template.format(journal=journal, journal_id=journal_id, year=year, offset=((page-1)*100))\n",
    "            html, fingerprint = fetch_sd_page(browser, url)\n",
    "            if len(html) == 0:\n",
    "                print(\"nothing to save for\", url)\n",
    "                continue\n",
    "            if fingerprint == previous_fingerprint:\n",
    "                # page already seen, move to the next month\n",
    "                print(\"done on page\", page)\n",
    "                break\n",
    "            \n",
    "            previous_fingerprint = fingerprint\n",
    "\n",
    "            filename = \"{name}_{year}_{month}_{page}.html\".format(name=journal, year=year, month=\"0\", page=page)\n",
    "            with codecs.open(\"pages/\"+filename, \"w\", \"utf8\") as outfile:\n",
    "                outfile.write(html)\n",
    "\n",
    "            time.sleep(2)"
   ]
  }
 ],
 "metadata": {
  "kernelspec": {
   "display_name": "picos",
   "language": "python",
   "name": "picos"
  },
  "language_info": {
   "codemirror_mode": {
    "name": "ipython",
    "version": 3
   },
   "file_extension": ".py",
   "mimetype": "text/x-python",
   "name": "python",
   "nbconvert_exporter": "python",
   "pygments_lexer": "ipython3",
   "version": "3.8.5"
  }
 },
 "nbformat": 4,
 "nbformat_minor": 2
}
