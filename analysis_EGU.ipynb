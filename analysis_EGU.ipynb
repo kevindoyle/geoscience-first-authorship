{
 "cells": [
  {
   "cell_type": "code",
   "execution_count": null,
   "metadata": {},
   "outputs": [],
   "source": [
    "# install the follwoing packages in the enviroment:\n",
    "# python3 -m pip install pandas\n",
    "# python3 -m pip install seaborn\n",
    "\n",
    "import pandas as pd\n",
    "import seaborn as sns\n",
    "import matplotlib.pyplot as plt\n",
    "\n",
    "import numpy as np\n",
    "import json\n",
    "\n",
    "import os\n",
    "\n",
    "from read_jsondata import read_jsons\n",
    "\n",
    "import time"
   ]
  },
  {
   "cell_type": "markdown",
   "metadata": {},
   "source": [
    "## Hypotheses to be tested\n",
    "\n",
    "#### As reference values to compare to, we will use demographics from ECS from AGU and EGU. This will give an idea of how many of the active scientists at these professional levels are represented to the peer-reviewed articles (which is the main crucial factor for career advancing and perhaps the daily goal of most academics)\n",
    "\n",
    "FIRST GLANCES AT DATA\n",
    "\n",
    "- % of female first authors (hists?)\n",
    "- % publications with all male vs. % publications with all female authors (hists?)\n",
    "\n",
    "CO-AUTHORSHIP ANALYSES\n",
    "\n",
    "- When 1st author is female: % of male vs. female co-authors (bars..?)\n",
    "- When 1st author is female: likelihood of last author (possibly PI) to be female vs. male \n",
    "- When 1st author is male: % of female coauthors and % of male coauthors\n",
    "- When the last name is female (possible PI), is there a higher % of female co-authors vs. male ones?\n",
    "\n",
    "JOURNAL IF ANALYSES:\n",
    "\n",
    "- Correlation between IF and female first authors: does higher IF mean fewer female first authors?\n",
    "\n",
    "\n"
   ]
  },
  {
   "cell_type": "code",
   "execution_count": null,
   "metadata": {},
   "outputs": [],
   "source": [
    "# Define local paths\n",
    "\n",
    "root = ! pwd\n",
    "root = root[0]\n",
    "\n",
    "RAW_DIR=root+\"/author_allgenders_egu/\"  \n",
    "\n",
    "if not os.path.exists(RAW_DIR):\n",
    "    print(\"The directory {} does not exist.\\nThere is no raw data for statistical analysis.\".format(RAW_DIR))"
   ]
  },
  {
   "cell_type": "code",
   "execution_count": null,
   "metadata": {},
   "outputs": [],
   "source": [
    "df = read_jsons(RAW_DIR)\n",
    "df"
   ]
  },
  {
   "cell_type": "markdown",
   "metadata": {},
   "source": [
    "### Create new columns in the dataframe extracting useful information from list of coauthors"
   ]
  },
  {
   "cell_type": "code",
   "execution_count": null,
   "metadata": {},
   "outputs": [],
   "source": [
    "# Number of authors:\n",
    "\n",
    "df['Number_authors'] = df['all_genders'].apply(lambda x: len(x)) #take the length of the list all_genders\n",
    "df['Number_init'] = df['all_genders'].apply(lambda x: len([s for s in x if \"init\"==s]))\n",
    "\n",
    "# First author's gender and percentage:\n",
    "\n",
    "df['First_Author_gend'] = df['all_genders'].apply(lambda x: x[0]) #take the first element of the list all_genders\n",
    "df['First_Author_perc'] = df['all_percent'].apply(lambda x: x[0])\n",
    "\n",
    "# Last author's gender and percentage:\n",
    "\n",
    "df['Last_Author_gend'] = df['all_genders'].apply(lambda x: x[-1]) #take the last element of the list all_genders\n",
    "df['Last_Author_perc'] = df['all_percent'].apply(lambda x: x[-1])\n",
    "\n",
    "df"
   ]
  },
  {
   "cell_type": "code",
   "execution_count": null,
   "metadata": {},
   "outputs": [],
   "source": [
    "df = df[df.Number_init==0].copy()\n",
    "df"
   ]
  },
  {
   "cell_type": "markdown",
   "metadata": {},
   "source": [
    " #### It is easier if the all probabilities are with respect to the same gender (female)"
   ]
  },
  {
   "cell_type": "code",
   "execution_count": null,
   "metadata": {},
   "outputs": [],
   "source": [
    "# prob(female) = 1 - prob(male)\n",
    "\n",
    "# Prob last author female:\n",
    "\n",
    "df['Last_Author_probF'] = df['Last_Author_perc']\n",
    "df.loc[df['Last_Author_gend'] == 'male','Last_Author_probF'] = \\\n",
    "    1 - df.loc[df['Last_Author_gend'] == 'male','Last_Author_probF']\n",
    "\n",
    "# Prob first author female:\n",
    "\n",
    "df['First_Author_probF'] = df['First_Author_perc']\n",
    "df.loc[df['First_Author_gend'] == 'male','First_Author_probF'] = \\\n",
    "    1 - df.loc[df['First_Author_gend'] == 'male','First_Author_probF']\n",
    "\n",
    "df"
   ]
  },
  {
   "cell_type": "markdown",
   "metadata": {},
   "source": [
    "## Now we can compute some interesting probabilities:\n",
    "\n",
    "### Useful formulas:\n",
    "\n",
    "Suppose $x_i$ refers to the article $i$ and $N$ is the total number of articles. Then, the probability of an article having female author is:\n",
    "\n",
    "$$p(\\text{female}) = \\sum_{i}^N p(\\text{female}|x_i) p(x_i). $$\n",
    "\n",
    "If we have all the probabilities with respect to the female gender, then the probability of having a male author will be:\n",
    "\n",
    "$$p(\\text{male}) = \\sum_{i}^N (1 - p(\\text{female}|x_i)) p(x_i). $$\n",
    "\n",
    "$p(x_i)$ is the probability of the article $x_i$. All articles have the same probability, therefore $p(x_i) = \\frac{1}{N}$. This means that the formulas above are same as taking the average of  $p(\\text{female}|x_i)$ or $(1 - p(\\text{female}|x_i))$, respectively.\n"
   ]
  },
  {
   "cell_type": "markdown",
   "metadata": {},
   "source": [
    "### Let's compute some easy statistics to start"
   ]
  },
  {
   "cell_type": "code",
   "execution_count": null,
   "metadata": {},
   "outputs": [],
   "source": [
    "print('Probability of having a female first author:', df['First_Author_probF'].sum()/df.shape[0])\n",
    "print('Probability of having a male first author:', (1 - df['First_Author_probF']).sum()/df.shape[0])\n",
    "\n",
    "\n",
    "print('Probability of having a female last author:', df['Last_Author_probF'].sum()/df.shape[0])\n",
    "print('Probability of having a male last author:', (1 - df['Last_Author_probF']).sum()/df.shape[0])\n",
    "\n"
   ]
  },
  {
   "cell_type": "markdown",
   "metadata": {},
   "source": [
    "#### Probabilities of having at least one male/female author in an article\n",
    "\n",
    "Having at least one female author refers to any coauthor combination excluding the case in which all authors are male:\n",
    "\n",
    "$$p(\\text{at least 1 female}|x_i) = 1 - p(\\text{all male}|x_i)$$\n",
    "\n",
    "Computing probability for all male coauthors is easier. In the following, we drop the dependency on $x_i$ for clarity.\n",
    "\n",
    "$$p(\\text{all male}) = p(\\text{male}_1)p(\\text{male}_2|\\text{male}_1)p(\\text{male}_3|\\text{male}_1,\\text{male}_2)... = \\prod_i^n p(\\text{male}_i)$$\n",
    "\n",
    "where n is the number of authors and the last step assumes that the gender probability of each authorship is independent of the gender of other coauthors (just to simplify the problem). "
   ]
  },
  {
   "cell_type": "code",
   "execution_count": null,
   "metadata": {},
   "outputs": [],
   "source": [
    "#Define functions to multiply probabilities in each row\n",
    "\n",
    "#prob at least a female author\n",
    "\n",
    "def Prob_atleast_Fauthor(x,y):\n",
    "    prod = 1\n",
    "    for i,elem in enumerate(x):\n",
    "        if elem == 'male':\n",
    "            prod *= float(y[i]) \n",
    "        elif elem == 'female':\n",
    "            prod *= 1 - float(y[i])\n",
    "    return 1 - prod\n",
    "\n",
    "#prob at least a male author\n",
    "\n",
    "def Prob_atleast_Mauthor(x,y):\n",
    "    prod = 1\n",
    "    for i,elem in enumerate(x):\n",
    "        if elem == 'male':\n",
    "            prod *= 1 - float(y[i]) \n",
    "        elif elem == 'female':\n",
    "            prod *= float(y[i])\n",
    "    return 1 - prod\n",
    "\n",
    "\n",
    "# Create corresponding columns:\n",
    "\n",
    "df['Prob_atleast_Fauthor'] = df.apply(lambda x: Prob_atleast_Fauthor(x.all_genders, x.all_percent), axis=1)\n",
    "df['Prob_atleast_Mauthor'] = df.apply(lambda x: Prob_atleast_Mauthor(x.all_genders, x.all_percent), axis=1)\n",
    "\n",
    "df"
   ]
  },
  {
   "cell_type": "code",
   "execution_count": null,
   "metadata": {},
   "outputs": [],
   "source": [
    "print('Probability of having at least one female author in an article', \n",
    "      df['Prob_atleast_Fauthor'].sum()/df.shape[0])\n",
    "\n",
    "print('Probability of having at least one male author in an article', \n",
    "      df['Prob_atleast_Mauthor'].sum()/df.shape[0])\n",
    "\n",
    "print('or the opposite...')\n",
    "\n",
    "print('Probability of having all female authors in an article', \n",
    "      1 - df['Prob_atleast_Mauthor'].sum()/df.shape[0])\n",
    "\n",
    "print('Probability of having all male authors in an article', \n",
    "      1 - df['Prob_atleast_Fauthor'].sum()/df.shape[0])"
   ]
  },
  {
   "cell_type": "markdown",
   "metadata": {},
   "source": [
    "#### in between: Overall frequency of female / male authors"
   ]
  },
  {
   "cell_type": "code",
   "execution_count": null,
   "metadata": {},
   "outputs": [],
   "source": [
    "def Prob_author(x,y, kind=\"female\", allkinds=\"malefemale\"):\n",
    "    sum = 0\n",
    "    for i,elem in enumerate(x):\n",
    "        if elem not in allkinds:\n",
    "            continue\n",
    "        if elem != kind:\n",
    "            sum += 1 - float(y[i]) \n",
    "        elif elem == kind:\n",
    "            sum += float(y[i])\n",
    "    return sum\n",
    "\n",
    "def count_kind(x, kind=\"init\"):\n",
    "    sum = 0\n",
    "    for elem in x:\n",
    "        if elem == kind:\n",
    "            sum += 1\n",
    "    return(sum)\n",
    "# How many authors in total?\n",
    "n_authors_all =df.Number_authors.sum()\n",
    "n_authors_all\n",
    "# Sum of probability of female / total nr. \n",
    "p_female_all = df.apply(lambda x: Prob_author(x.all_genders, x.all_percent, kind=\"female\"), axis=1).sum() / n_authors_all\n",
    "\n",
    "# Sum of probability of male / total nr.\n",
    "p_male_all = df.apply(lambda x: Prob_author(x.all_genders, x.all_percent, kind=\"male\"), axis=1).sum() / n_authors_all\n",
    "\n",
    "# Sum of init / total nr\n",
    "p_init_all =  df.apply(lambda x: count_kind(x.all_genders), axis=1).sum() / n_authors_all\n",
    "# Check it adds to 1\n",
    "print(\"All probabilities sum: \", p_female_all + p_male_all + p_init_all)\n",
    "print(\"Overall frequency of female authorship: \", 100.*p_female_all)\n",
    "print(\"Overall frequency of male authorship: \", 100.*p_male_all)\n",
    "print(\"Overall frequency of unidentified names: \", 100. * p_init_all)\n",
    "print(\"=\" * 100)\n",
    "\n",
    "## correct for init values\n",
    "n_init = df.apply(lambda x: count_kind(x.all_genders), axis=1).sum()\n",
    "## Sum of probability of female / total nr. \n",
    "p_female_all = df.apply(lambda x: Prob_author(x.all_genders, x.all_percent, kind=\"female\"), axis=1).sum() / (n_authors_all - n_init)\n",
    "\n",
    "# Sum of probability of male / total nr.\n",
    "p_male_all = df.apply(lambda x: Prob_author(x.all_genders, x.all_percent, kind=\"male\"), axis=1).sum() / (n_authors_all - n_init)\n",
    "print(\"All probabilities sum: \", p_female_all + p_male_all)\n",
    "print(\"Overall frequency of female authorship after accounting for init: \", 100.*p_female_all)\n",
    "print(\"Overall frequency of male authorship after accounting for init: \", 100.*p_male_all)\n",
    "\n",
    "\n",
    "# so if we go by these rough probabilities then...\n",
    "print(\"=\" * 100)\n",
    "print(\"Probability that a paper with x author(s) has at least 1 female author:\")\n",
    "print(\"x=1: p=\", round(1. - p_male_all, 3), \";   x=2: p=\", round(1. - p_male_all ** 2, 3),\n",
    "      \";   x=3: p=\", round(1. - p_male_all ** 3, 3), \";   p=10: p=\", round(1. - p_male_all ** 10, 3))\n",
    "print(\"=\" * 100)\n",
    "# and the reverse:\n",
    "print(\"Probability that a paper with x author(s) has only female authors:\")\n",
    "print(\"x=1: p=\", round(p_female_all, 3), \";   x=2: p=\", round(p_female_all ** 2, 3),\n",
    "      \";   x=3: p=\", round(p_female_all ** 3, 3), \";   p=10: p=\", round(p_female_all ** 10, 3))\n",
    "# etc\n",
    "print(\"=\" * 100)\n",
    "\n",
    "n_authors = range(1, 21)\n",
    "p_one_f_given_n = 1. - p_male_all ** n_authors\n",
    "p_one_m_given_n = 1. - p_female_all ** n_authors\n",
    "\n",
    "p_all_f_given_n = p_female_all ** n_authors\n",
    "p_all_m_given_n = p_male_all ** n_authors\n",
    "\n",
    "\n",
    "# UGLY CODE below. Please fix if you are inspired\n",
    "n_authors_data = df.Number_authors.unique()\n",
    "n_authors_data.sort()\n",
    "\n",
    "p_atleast_f_per_n = []\n",
    "p_atleast_m_per_n = []\n",
    "p_all_f_per_n = []\n",
    "p_all_m_per_n = []\n",
    "nr_papers_n = []\n",
    "n_authors_data = n_authors_data[0: 20]\n",
    "for i in n_authors_data:\n",
    "    p_atleast_f_per_n.append(100*df[df.Number_authors == i].Prob_atleast_Fauthor.mean())    \n",
    "    p_atleast_m_per_n.append(100*df[df.Number_authors == i].Prob_atleast_Mauthor.mean())\n",
    "    p_all_f_per_n.append(100*(1. - df[df.Number_authors == i].Prob_atleast_Mauthor).mean())\n",
    "    p_all_m_per_n.append(100*(1. - df[df.Number_authors == i].Prob_atleast_Fauthor).mean())\n",
    "    \n",
    "    nr_papers_n.append(len(df[df.Number_authors == i])) \n",
    "# End ugly crap code\n",
    "    \n",
    "\n",
    "plt.figure(figsize=(9, 6))\n",
    "plt.subplot(221)\n",
    "plt.scatter(n_authors_data, p_atleast_f_per_n, color=\"g\", alpha=0.7)\n",
    "plt.scatter(n_authors, 100*p_one_f_given_n, marker=\"x\")\n",
    "plt.grid()\n",
    "plt.xlim(0, 10)\n",
    "plt.ylim(0., 110)\n",
    "plt.xticks([i for i in range(0, 11, 2)], [\"\" for i in range(0, 11, 2)])\n",
    "plt.title(\"Probability at least 1 f\")\n",
    "plt.legend([\"Data\", \"Random draw\"])\n",
    "\n",
    "\n",
    "plt.subplot(222)\n",
    "plt.scatter(n_authors_data, p_atleast_m_per_n, color=\"g\", alpha=0.7)\n",
    "plt.scatter(n_authors, 100*p_one_m_given_n, marker=\"x\")\n",
    "plt.grid()\n",
    "plt.xlim(0, 10)\n",
    "plt.ylim(0., 110)\n",
    "plt.title(\"Probability at least 1 m\")\n",
    "plt.legend([\"Data\", \"Random draw\"])\n",
    "\n",
    "plt.xticks([i for i in range(0, 11, 2)], [\"\" for i in range(0, 11, 2)])\n",
    "\n",
    "plt.subplot(223)\n",
    "plt.scatter(n_authors_data, p_all_f_per_n, color=\"g\", alpha=0.7)\n",
    "plt.scatter(n_authors, 100*p_all_f_given_n, marker=\"x\")\n",
    "plt.grid()\n",
    "plt.xlim(0, 10)\n",
    "plt.ylim(0., 110)\n",
    "\n",
    "plt.title(\"Probability all f\")\n",
    "plt.legend([\"Data\", \"Random draw\"])\n",
    "\n",
    "plt.xlabel(\"Nr. of authors\")\n",
    "plt.subplot(224)\n",
    "plt.scatter(n_authors_data, p_all_m_per_n, color=\"g\", alpha=0.7)\n",
    "plt.scatter(n_authors, 100*p_all_m_given_n, marker=\"x\")\n",
    "plt.grid()\n",
    "plt.xlim(0, 10)\n",
    "plt.ylim(0., 110)\n",
    "plt.title(\"Probability all m\")\n",
    "plt.legend([\"Data\", \"Random draw\"])\n",
    "plt.xlabel(\"Nr. of authors\")\n",
    "\n",
    "plt.savefig(\"prob_atleast_all.png\", dpi=150)\n",
    "print(nr_papers_n)"
   ]
  },
  {
   "cell_type": "code",
   "execution_count": null,
   "metadata": {},
   "outputs": [],
   "source": [
    "plt.figure(figsize=(9, 6))\n",
    "plt.subplot(221)\n",
    "plt.scatter(n_authors_data,  p_atleast_f_per_n - 100*p_one_f_given_n, marker=\"x\")\n",
    "plt.grid()\n",
    "plt.xlim(0, 10)\n",
    "plt.ylim(-7.5, 7.5)\n",
    "plt.xticks([i for i in range(0, 11, 2)], [\"\" for i in range(0, 11, 2)])\n",
    "plt.title(\"Bias at least 1 f\")\n",
    "\n",
    "\n",
    "plt.subplot(222)\n",
    "plt.scatter(n_authors_data, p_atleast_m_per_n - 100*p_one_m_given_n, marker=\"x\")\n",
    "plt.grid()\n",
    "plt.xlim(0, 10)\n",
    "plt.ylim(-7.5, 7.5)\n",
    "plt.xticks([i for i in range(0, 11, 2)], [\"\" for i in range(0, 11, 2)])\n",
    "plt.title(\"Bias at least 1 m\")\n",
    "\n",
    "\n",
    "plt.subplot(223)\n",
    "plt.scatter(n_authors_data,  p_all_f_per_n - 100*p_all_f_given_n, marker=\"x\")\n",
    "plt.grid()\n",
    "plt.xlim(0, 10)\n",
    "plt.ylim(-7.5, 7.5)\n",
    "plt.xticks([i for i in range(0, 11, 2)], [\"\" for i in range(0, 11, 2)])\n",
    "plt.title(\"Bias all f\")\n",
    "\n",
    "\n",
    "plt.subplot(224)\n",
    "plt.scatter(n_authors_data, p_all_m_per_n - 100*p_all_m_given_n, marker=\"x\")\n",
    "plt.grid()\n",
    "plt.xlim(0, 10)\n",
    "plt.ylim(-7.5, 7.5)\n",
    "plt.xticks([i for i in range(0, 11, 2)], [\"\" for i in range(0, 11, 2)])\n",
    "plt.title(\"Bias all m\")"
   ]
  },
  {
   "cell_type": "code",
   "execution_count": null,
   "metadata": {},
   "outputs": [],
   "source": [
    "print('Average number of authors for abstracts', \n",
    "      df['Number_authors'].sum()/df.shape[0])"
   ]
  },
  {
   "cell_type": "code",
   "execution_count": null,
   "metadata": {},
   "outputs": [],
   "source": [
    "print('Expected probability of having at least one female author in an article:', \n",
    "      1. - p_male_all ** (df['Number_authors'].sum()/df.shape[0]))\n",
    "print('Expected probability of having at least one male author in an article:', \n",
    "      1. - p_female_all ** (df['Number_authors'].sum()/df.shape[0]))"
   ]
  },
  {
   "cell_type": "code",
   "execution_count": null,
   "metadata": {},
   "outputs": [],
   "source": [
    "print('Expected probability of having at least one author in an article with 4 authors:', \n",
    "      1. - p_male_all ** 4)\n",
    "print('Expected probability of having at least one male author in an article with 4 authors:', \n",
    "      1. - p_female_all ** 4)"
   ]
  },
  {
   "cell_type": "markdown",
   "metadata": {},
   "source": [
    "\n",
    "\n",
    "##### important: these results may be sensitive to accounting for non-gendered \"init\" data points in computing the P_atleast.... We should remove them for a cleaner result. I think we could correct for them by enforcing that p_allmale and p_onefemale must sum to one (now not the exact)\n",
    "- With the number of papers in each category, we may consider everything up to about 10 authors a decent sample size? (for n_authors=10, n_papers = 252)\n",
    "- men are overrepresented in single-author papers\n",
    "- gender mixing of authors is not random: the probability of mixed authorships in the data does not reflect a random choice based on overall gender frequencies in the data. The data show more likely all-male and all-female papers compared to random choice by overall frequency. This seems to be particularly the case for all-male author groups. Boys club?\n",
    "- this may put female authors at disavantage, because their available pool of co-authors is smaller, while men have an increased co-author pool. Female authors may be at disadvantage with regard to forging collaboration\n"
   ]
  },
  {
   "cell_type": "markdown",
   "metadata": {},
   "source": [
    "#### See the temporal trend of having at least one F or one M in a publication for all journals per year\n"
   ]
  },
  {
   "cell_type": "code",
   "execution_count": null,
   "metadata": {},
   "outputs": [],
   "source": [
    "years = df['year'].unique() # a list of unique journal names\n",
    "years.sort()\n",
    "print(years)\n",
    "\n",
    "for i in years: #update values for each journal\n",
    "    cond = df['year']==i\n",
    "    print(\"Number of articles = \", len(df[cond].values), \" for year \", i)\n",
    "    df.loc[cond,'P_atleast_F_year'] = df.loc[cond,'Prob_atleast_Fauthor'].sum()/df[cond].shape[0]\n",
    "    df.loc[cond,'P_atleast_M_year'] = df.loc[cond,'Prob_atleast_Mauthor'].sum()/df[cond].shape[0]\n",
    "\n"
   ]
  },
  {
   "cell_type": "code",
   "execution_count": null,
   "metadata": {},
   "outputs": [],
   "source": [
    "sns.barplot(y=\"year\", x=\"P_atleast_F_year\",  data=df, order=years, palette='rainbow').set_title('Prob of at least one female all journals per year')\n",
    "plt.xlim([0,1])"
   ]
  },
  {
   "cell_type": "code",
   "execution_count": null,
   "metadata": {},
   "outputs": [],
   "source": [
    "sns.barplot(y=\"year\", x=\"P_atleast_M_year\",  data=df, order=years, palette='rainbow').set_title('Prob of at least one male all journals per year')\n",
    "plt.xlim([0,1])"
   ]
  },
  {
   "cell_type": "markdown",
   "metadata": {},
   "source": [
    "#### Female & male percentages per year "
   ]
  },
  {
   "cell_type": "code",
   "execution_count": null,
   "metadata": {},
   "outputs": [],
   "source": [
    "# To discuss: Here we should make sure that \"male\" only counts \"male\"\n",
    "# last_auth_F_year = df.groupby(['year'])['Last_Author_gend'].apply(lambda x: x[x.str.contains('female')].count())\n",
    "# print(last_auth_F_year)\n",
    "\n",
    "# last_auth_M_year = df.groupby(['year'])['Last_Author_gend'].apply(lambda x: x[x.str.contains('male')].count())\n",
    "# print(last_auth_M_year)\n",
    "\n",
    "# first_auth_F_year = df.groupby(['year'])['First_Author_gend'].apply(lambda x: x[x.str.contains('female')].count())\n",
    "# print(first_auth_F_year)\n",
    "\n",
    "# first_auth_M_year = df.groupby(['year'])['First_Author_gend'].apply(lambda x: x[x.str.contains('male')].count())\n",
    "# print(first_auth_M_year)\n",
    "\n",
    "# first author> someone needs to double check this! \n",
    "for i in years: #update values for each journal\n",
    "    cond = (df['year']==i)# & (df[\"First_Author_gend\"] != \"init\")  \n",
    "    # alternatively: Do not remove Init and then probabilities do not sum to 1.\n",
    "    # cond = df['year']==i\n",
    "    \n",
    "    print(\"Number of articles = \", len(df[cond].values), \" for year \", i)\n",
    "    df.loc[cond,'P_first_F_year'] = df.loc[cond,'First_Author_probF'].sum() / len(df.loc[cond])\n",
    "    df.loc[cond,'P_first_M_year'] = (1. - df.loc[cond,'First_Author_probF']).sum() / len(df.loc[cond])\n",
    "    \n",
    "    # uncomment the following line to check if sums up to 1\n",
    "    # print(df.loc[cond, \"P_first_F_year\"].iloc[0:5] + df.loc[cond, \"P_first_M_year\"].iloc[0:5])\n",
    "    print(\"Probability that first author is female: \", df.loc[cond, \"P_first_F_year\"].iloc[0])\n",
    "    print(\"Probability that first author is male: \", df.loc[cond, \"P_first_M_year\"].iloc[0])\n",
    "\n",
    "    \n",
    "    # last author\n",
    "    cond = (df['year']==i) & (df[\"Last_Author_gend\"] != \"init\")  \n",
    "    # alternatively: Do not remove Init and then probabilities do not sum to 1.\n",
    "    # cond = df['year']==i\n",
    "    \n",
    "    #print(\"Number of articles = \", len(df[cond].values), \" for year \", i)\n",
    "    df.loc[cond,'P_last_F_year'] = df.loc[cond,'Last_Author_probF'].sum() / len(df.loc[cond])\n",
    "    df.loc[cond,'P_last_M_year'] = (1. - df.loc[cond,'Last_Author_probF']).sum() / len(df.loc[cond])\n",
    "    \n",
    "    # uncomment the following line to check if sums up to 1\n",
    "    # print(df.loc[cond, \"P_last_F_year\"].iloc[0:5] + df.loc[cond, \"P_last_M_year\"].iloc[0:5])\n",
    "    print(\"Probability that last author is female: \", df.loc[cond, \"P_last_F_year\"].iloc[0])\n",
    "    print(\"Probability that last author is male: \", df.loc[cond, \"P_last_M_year\"].iloc[0])\n",
    "\n",
    "df.to_csv(\"analysis_output_\" + time.strftime(\"%Y-%m-%d.csv\"))"
   ]
  },
  {
   "cell_type": "code",
   "execution_count": null,
   "metadata": {},
   "outputs": [],
   "source": [
    "sns.barplot(y=\"year\", x=\"P_first_M_year\",  data=df, order=years, palette='rainbow').set_title('Prob of first author male per year')\n",
    "plt.xlim([0,1])\n",
    "plt.show()\n",
    "\n",
    "sns.barplot(y=\"year\", x=\"P_first_F_year\",  data=df, order=years, palette='rainbow').set_title('Prob of first author female per year')\n",
    "plt.xlim([0,1])\n",
    "plt.show()\n",
    "\n",
    "\n",
    "sns.barplot(y=\"year\", x=\"P_last_M_year\",  data=df, order=years, palette='rainbow').set_title('Prob of last author male per year')\n",
    "plt.xlim([0,1])\n",
    "plt.show()\n",
    "\n",
    "sns.barplot(y=\"year\", x=\"P_last_F_year\",  data=df, order=years, palette='rainbow').set_title('Prob of last author female per year')\n",
    "plt.xlim([0,1])"
   ]
  },
  {
   "cell_type": "markdown",
   "metadata": {},
   "source": [
    "#### We should check if the numbers above are biased or are a consequence of female/male author distribution.\n",
    "\n",
    "We can generate synthetic data using the distribution of female/male authors.\n",
    "\n",
    "--> The synthetics have moved to analysis-Synthetics notebook, remain below for not accidentally deleting something useful"
   ]
  },
  {
   "cell_type": "code",
   "execution_count": null,
   "metadata": {},
   "outputs": [],
   "source": [
    "def Prob_author(x,y, kind=\"female\", allkinds=\"malefemale\"):\n",
    "    sum = 0\n",
    "    for i, elem in enumerate(x):\n",
    "        if elem not in allkinds:\n",
    "            continue\n",
    "        if elem != kind:\n",
    "            sum += 1 - float(y[i]) \n",
    "        elif elem == kind:\n",
    "            sum += float(y[i])\n",
    "    return sum\n",
    "\n",
    "\n",
    "df['Prob_Fauthor'] = df.apply(lambda x: Prob_author(x.all_genders, x.all_percent, \"female\"), axis=1)\n",
    "df['Prob_Mauthor'] = df.apply(lambda x: Prob_author(x.all_genders, x.all_percent, \"male\"), axis=1)\n",
    "\n",
    "df"
   ]
  },
  {
   "cell_type": "code",
   "execution_count": null,
   "metadata": {},
   "outputs": [],
   "source": [
    "years = df['year'].unique() # a list of unique journal names\n",
    "years.sort()\n",
    "print(years)\n",
    "\n",
    "for i in years: #update values for each journal\n",
    "    cond = df['year']==i\n",
    "    print(\"Number of articles = \", len(df[cond].values), \" for year \", i)\n",
    "    n_year = df.loc[cond,'all_genders'].apply(lambda x: len([s for s in x if \"init\"!=s])).sum()\n",
    "    print(n_year)\n",
    "    df.loc[cond,'P_F_year'] = df.loc[cond,'Prob_Fauthor'].sum()/n_year\n",
    "    df.loc[cond,'P_M_year'] = df.loc[cond,'Prob_Mauthor'].sum()/n_year\n",
    "    "
   ]
  },
  {
   "cell_type": "code",
   "execution_count": null,
   "metadata": {},
   "outputs": [],
   "source": [
    "sns.barplot(y=\"year\", x=\"P_F_year\",  data=df, order=years, palette='rainbow').set_title('Prob of female per year')\n",
    "plt.xlim([0,1])"
   ]
  },
  {
   "cell_type": "code",
   "execution_count": null,
   "metadata": {},
   "outputs": [],
   "source": [
    "sns.barplot(y=\"year\", x=\"P_M_year\",  data=df, order=years, palette='rainbow').set_title('Prob of male per year')\n",
    "plt.xlim([0,1])"
   ]
  },
  {
   "cell_type": "code",
   "execution_count": null,
   "metadata": {},
   "outputs": [],
   "source": [
    "### Define a random sampler from the distribution of female/male authors:\n",
    "\n",
    "elements = ['female', 'male', 'init']\n",
    "p1 = df['Prob_Fauthor'].sum()/df['Number_authors'].sum() #prob of an author being female\n",
    "p2 = df['Prob_Mauthor'].sum()/df['Number_authors'].sum() #prob of an author being male\n",
    "p3 = 1 - p1 - p2 #prob of an author being init\n",
    "\n",
    "probabilities = [p1, p2 , p3]\n",
    "print(probabilities)\n",
    "np.random.choice(elements, 10, p=probabilities) # example: take 10 random samples\n",
    "\n"
   ]
  },
  {
   "cell_type": "code",
   "execution_count": null,
   "metadata": {},
   "outputs": [],
   "source": [
    "# Generate synthetic genders per each article maintaining the number of authors:\n",
    "\n",
    "dfn = pd.DataFrame()\n",
    "\n",
    "dfn['Synth_genders'] = df['Number_authors'].apply(lambda x: np.random.choice(elements, x, p=probabilities))\n",
    "dfn"
   ]
  },
  {
   "cell_type": "code",
   "execution_count": null,
   "metadata": {},
   "outputs": [],
   "source": [
    "### Now check for these synthetics the probabilities:\n",
    "\n",
    "# prob having at least one female author\n",
    "\n",
    "def Prob_atleast_Fauthor_synth(x):\n",
    "    prod = 1\n",
    "    for i,elem in enumerate(x):\n",
    "        if elem == 'male':\n",
    "            prod *= 1 \n",
    "        elif elem == 'female':\n",
    "            prod *= 0\n",
    "    return 1 - prod\n",
    "\n",
    "dfn['Prob_atleast_Fauthor_synth'] = dfn.apply(lambda x: Prob_atleast_Fauthor_synth(x.Synth_genders), axis=1)\n",
    "\n",
    "print('Probability of having at least one female author in an article', \n",
    "      dfn['Prob_atleast_Fauthor_synth'].sum()/dfn.shape[0])\n",
    "\n",
    "# prob having at least one male author\n",
    "\n",
    "def Prob_atleast_Mauthor_synth(x):\n",
    "    prod = 1\n",
    "    for i,elem in enumerate(x):\n",
    "        if elem == 'male':\n",
    "            prod *= 0\n",
    "        elif elem == 'female':\n",
    "            prod *= 1\n",
    "    return 1 - prod\n",
    "\n",
    "dfn['Prob_atleast_Mauthor_synth'] = dfn.apply(lambda x: Prob_atleast_Mauthor_synth(x.Synth_genders), axis=1)\n",
    "\n",
    "print('Probability of having at least one male author in an article',\n",
    "      dfn['Prob_atleast_Mauthor_synth'].sum()/dfn.shape[0])\n",
    "\n",
    "\n",
    "### What is the prob of first and last authorships?\n",
    "\n",
    "\n",
    "dfn['First_Author_Fperc_synth'] = dfn['Synth_genders'].apply(lambda x: 1 if x[0]=='female' else 0)\n",
    "dfn['First_Author_Mperc_synth'] = dfn['Synth_genders'].apply(lambda x: 1 if x[0]=='male' else 0)\n",
    "\n",
    "dfn['Last_Author_Fperc_synth'] = dfn['Synth_genders'].apply(lambda x: 1 if x[-1]=='female' else 0)\n",
    "dfn['Last_Author_Mperc_synth'] = dfn['Synth_genders'].apply(lambda x: 1 if x[-1]=='male' else 0)\n",
    "\n",
    "print('First author female:', dfn['First_Author_Fperc_synth'].sum()/dfn.shape[0])\n",
    "print('First author male:', dfn['First_Author_Mperc_synth'].sum()/dfn.shape[0])\n",
    "print('Last author female:', dfn['Last_Author_Fperc_synth'].sum()/dfn.shape[0])\n",
    "print('Last author male:', dfn['Last_Author_Mperc_synth'].sum()/dfn.shape[0])"
   ]
  },
  {
   "cell_type": "code",
   "execution_count": null,
   "metadata": {},
   "outputs": [],
   "source": [
    "0.2537245014898006 + 0.7214072885629155"
   ]
  },
  {
   "cell_type": "code",
   "execution_count": null,
   "metadata": {},
   "outputs": [],
   "source": []
  }
 ],
 "metadata": {
  "kernelspec": {
   "display_name": "picos",
   "language": "python",
   "name": "picos"
  },
  "language_info": {
   "codemirror_mode": {
    "name": "ipython",
    "version": 3
   },
   "file_extension": ".py",
   "mimetype": "text/x-python",
   "name": "python",
   "nbconvert_exporter": "python",
   "pygments_lexer": "ipython3",
   "version": "3.8.10"
  }
 },
 "nbformat": 4,
 "nbformat_minor": 4
}
