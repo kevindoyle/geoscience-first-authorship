{
 "cells": [
  {
   "cell_type": "markdown",
   "metadata": {},
   "source": [
    "## A notebook to generate sythetic data as a reference\n",
    "\n"
   ]
  },
  {
   "cell_type": "code",
   "execution_count": null,
   "metadata": {},
   "outputs": [],
   "source": [
    "# install the follwoing packages in the enviroment:\n",
    "# python3 -m pip install pandas\n",
    "# python3 -m pip install seaborn\n",
    "\n",
    "import pandas as pd\n",
    "import seaborn as sns\n",
    "import matplotlib.pyplot as plt\n",
    "\n",
    "import numpy as np\n",
    "import json\n",
    "\n",
    "import os\n",
    "\n",
    "from read_jsondata import read_jsons"
   ]
  },
  {
   "cell_type": "code",
   "execution_count": null,
   "metadata": {},
   "outputs": [],
   "source": [
    "# Define local paths\n",
    "\n",
    "root = ! pwd\n",
    "root = root[0]\n",
    "\n",
    "RAW_DIR=root+\"/author_allgenders/\"  \n",
    "\n",
    "if not os.path.exists(RAW_DIR):\n",
    "    print(\"The directory {} does not exist.\\nThere is no raw data for statistical analysis.\".format(RAW_DIR))"
   ]
  },
  {
   "cell_type": "code",
   "execution_count": null,
   "metadata": {},
   "outputs": [],
   "source": [
    "df = read_jsons(RAW_DIR)\n",
    "df['Number_authors'] = df['all_genders'].apply(lambda x: len(x)) #take the length of the list all_genders\n"
   ]
  },
  {
   "cell_type": "markdown",
   "metadata": {},
   "source": [
    "### Synthetics"
   ]
  },
  {
   "cell_type": "markdown",
   "metadata": {},
   "source": [
    "#### We should check if the numbers above are biased or are a consequence of female/male author distribution.\n",
    "\n",
    "We can generate synthetic data using the distribution of female/male authors.\n"
   ]
  },
  {
   "cell_type": "markdown",
   "metadata": {},
   "source": [
    "#### 1. Probability of an author being female/male:"
   ]
  },
  {
   "cell_type": "code",
   "execution_count": null,
   "metadata": {},
   "outputs": [],
   "source": [
    "def Prob_author(x,y, kind=\"female\", allkinds=\"malefemale\"):\n",
    "    sum = 0\n",
    "    for i,elem in enumerate(x):\n",
    "        if elem not in allkinds:\n",
    "            continue\n",
    "        if elem != kind:\n",
    "            sum += 1 - float(y[i]) \n",
    "        elif elem == kind:\n",
    "            sum += float(y[i])\n",
    "    return sum\n",
    "\n",
    "\n",
    "df['Prob_Fauthor'] = df.apply(lambda x: Prob_author(x.all_genders, x.all_percent, \"female\"), axis=1)\n",
    "df['Prob_Mauthor'] = df.apply(lambda x: Prob_author(x.all_genders, x.all_percent, \"male\"), axis=1)\n",
    "#df"
   ]
  },
  {
   "cell_type": "markdown",
   "metadata": {},
   "source": [
    "#### 2. Create some synthetic genders for authors:"
   ]
  },
  {
   "cell_type": "code",
   "execution_count": null,
   "metadata": {},
   "outputs": [],
   "source": [
    "### Define a random sampler from the distribution of female/male authors:\n",
    "\n",
    "elements = ['female', 'male', 'init']\n",
    "p1 = df['Prob_Fauthor'].sum()/df['Number_authors'].sum() #prob of an author being female\n",
    "p2 = df['Prob_Mauthor'].sum()/df['Number_authors'].sum() #prob of an author being male\n",
    "p3 = 1 - p1 - p2 #prob of an author being init\n",
    "\n",
    "probabilities = [p1, p2 , p3]\n",
    "np.random.choice(elements, 10, p=probabilities) # example: take 10 random samples"
   ]
  },
  {
   "cell_type": "code",
   "execution_count": null,
   "metadata": {},
   "outputs": [],
   "source": [
    "## Define some useful functions:\n",
    "def Prob_atleast_cond_l(x, kind, allkinds=\"malefemale\"):\n",
    "    prod = 1\n",
    "    z = x[:-1]\n",
    "    for elem in z:\n",
    "        if elem not in allkinds:\n",
    "            continue\n",
    "        if elem != kind:\n",
    "            prod *= 1 \n",
    "        elif elem == kind:\n",
    "            prod *= 0\n",
    "    return 1 - prod\n",
    "\n",
    "\n",
    "\n",
    "def Prob_atleast_cond_f(x, kind, allkinds=\"malefemale\"):\n",
    "    prod = 1\n",
    "    z = x[1:]\n",
    "    for elem in z:\n",
    "        if elem not in allkinds:\n",
    "            continue\n",
    "        if elem != kind:\n",
    "            prod *= 1 \n",
    "        elif elem == kind:\n",
    "            prod *= 0\n",
    "    return 1 - prod"
   ]
  },
  {
   "cell_type": "code",
   "execution_count": null,
   "metadata": {},
   "outputs": [],
   "source": [
    "# Generate synthetic genders per each article maintaining the number of authors:\n",
    "\n",
    "N = 10\n",
    "\n",
    "pf_lf = 0\n",
    "pf_lm = 0\n",
    "pf_ff = 0\n",
    "pf_fm = 0\n",
    "\n",
    "for i in range(N):\n",
    "\n",
    "    df2 = pd.DataFrame()\n",
    "\n",
    "    df2['Synth_genders'] = df['Number_authors'].apply(lambda x: np.random.choice(elements, x, p=probabilities))\n",
    "    df2['Number_authors'] = df['Number_authors']\n",
    "    \n",
    "    # First author's gender and percentage:\n",
    "\n",
    "    df2['First_Author_gend'] = df2['Synth_genders'].apply(lambda x: x[0]) \n",
    "\n",
    "\n",
    "    # Last author's gender and percentage:\n",
    "\n",
    "    df2['Last_Author_gend'] = df2['Synth_genders'].apply(lambda x: x[-1]) \n",
    "    \n",
    "    ### For example: what is the prob of at least a female coauthor if first/last is male/female??\n",
    "\n",
    "    df2_lf = df2[(df2.Last_Author_gend == 'female') & (df2.Number_authors > 1)].copy() # only articles with last female\n",
    "    df2_lm = df2[(df2.Last_Author_gend == 'male') & (df2.Number_authors > 1)].copy() # only articles with last male\n",
    "    df2_ff = df2[(df2.First_Author_gend == 'female') & (df2.Number_authors > 1)].copy() # only articles with first female\n",
    "    df2_fm = df2[(df2.First_Author_gend == 'male') & (df2.Number_authors > 1)].copy() # only articles with first male\n",
    "    \n",
    "\n",
    "    ### Create new columns with useful probabilities (last author condition)\n",
    "\n",
    "    df2_lf['Prob_atleast_Fauthor_lf'] = df2_lf.apply(lambda x: Prob_atleast_cond_l(x.Synth_genders,'female'), axis=1)\n",
    "    df2_lf['Prob_atleast_Mauthor_lf'] = df2_lf.apply(lambda x: Prob_atleast_cond_l(x.Synth_genders,'male'), axis=1)\n",
    "\n",
    "    df2_lm['Prob_atleast_Fauthor_lm'] = df2_lm.apply(lambda x: Prob_atleast_cond_l(x.Synth_genders,'female'), axis=1)\n",
    "    df2_lm['Prob_atleast_Mauthor_lm'] = df2_lm.apply(lambda x: Prob_atleast_cond_l(x.Synth_genders,'male'), axis=1)\n",
    "\n",
    "    ### Create new columns with useful probabilities (first author condition)\n",
    "\n",
    "    df2_ff['Prob_atleast_Fauthor_ff'] = df2_ff.apply(lambda x: Prob_atleast_cond_f(x.Synth_genders,'female'), axis=1)\n",
    "    df2_ff['Prob_atleast_Mauthor_ff'] = df2_ff.apply(lambda x: Prob_atleast_cond_f(x.Synth_genders,'male'), axis=1)\n",
    "\n",
    "    df2_fm['Prob_atleast_Fauthor_fm'] = df2_fm.apply(lambda x: Prob_atleast_cond_f(x.Synth_genders,'female'), axis=1)\n",
    "    df2_fm['Prob_atleast_Mauthor_fm'] = df2_fm.apply(lambda x: Prob_atleast_cond_f(x.Synth_genders,'male'), axis=1)\n",
    "\n",
    "    \n",
    "    ### Sum probabilities to make the average later\n",
    "    \n",
    "    pf_lf += df2_lf['Prob_atleast_Fauthor_lf'].sum()/df2_lf.shape[0]\n",
    "    pf_lm += df2_lm['Prob_atleast_Fauthor_lm'].sum()/df2_lm.shape[0]\n",
    "    \n",
    "    pf_ff += df2_ff['Prob_atleast_Fauthor_ff'].sum()/df2_ff.shape[0]\n",
    "    pf_fm += df2_fm['Prob_atleast_Fauthor_fm'].sum()/df2_fm.shape[0]\n",
    "    \n",
    "    \n",
    "    \n",
    "### The probabilities tend to....    \n",
    "\n",
    "print('Probability of having at least one female author in an article with last female author', \n",
    "      pf_lf/N)\n",
    "print('Probability of having at least one female author in an article with last male author', \n",
    "      pf_lm/N)\n",
    "\n",
    "\n",
    "print('Probability of having at least one female author in an article with first female author', \n",
    "      pf_ff/N)\n",
    "print('Probability of having at least one female author in an article with first male author', \n",
    "      pf_fm/N)"
   ]
  },
  {
   "cell_type": "code",
   "execution_count": null,
   "metadata": {},
   "outputs": [],
   "source": []
  }
 ],
 "metadata": {
  "kernelspec": {
   "display_name": "Python 3",
   "language": "python",
   "name": "python3"
  },
  "language_info": {
   "codemirror_mode": {
    "name": "ipython",
    "version": 3
   },
   "file_extension": ".py",
   "mimetype": "text/x-python",
   "name": "python",
   "nbconvert_exporter": "python",
   "pygments_lexer": "ipython3",
   "version": "3.8.10"
  }
 },
 "nbformat": 4,
 "nbformat_minor": 4
}
